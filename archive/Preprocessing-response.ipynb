{
 "cells": [
  {
   "cell_type": "code",
   "execution_count": 1,
   "id": "f3e0a36e",
   "metadata": {},
   "outputs": [],
   "source": [
    "import pandas as pd\n",
    "import numpy as np\n",
    "pd.options.display.max_columns=None\n",
    "import warnings\n",
    "warnings.filterwarnings('ignore')"
   ]
  },
  {
   "cell_type": "code",
   "execution_count": 2,
   "id": "795e2724",
   "metadata": {},
   "outputs": [],
   "source": [
    "\n",
    "df=pd.read_csv(r'C:\\Users\\FREYA RACHEL\\OneDrive\\Desktop\\archive\\diabetic_data.csv')"
   ]
  },
  {
   "cell_type": "code",
   "execution_count": 3,
   "id": "9823cb62",
   "metadata": {},
   "outputs": [
    {
     "data": {
      "text/html": [
       "<div>\n",
       "<style scoped>\n",
       "    .dataframe tbody tr th:only-of-type {\n",
       "        vertical-align: middle;\n",
       "    }\n",
       "\n",
       "    .dataframe tbody tr th {\n",
       "        vertical-align: top;\n",
       "    }\n",
       "\n",
       "    .dataframe thead th {\n",
       "        text-align: right;\n",
       "    }\n",
       "</style>\n",
       "<table border=\"1\" class=\"dataframe\">\n",
       "  <thead>\n",
       "    <tr style=\"text-align: right;\">\n",
       "      <th></th>\n",
       "      <th>encounter_id</th>\n",
       "      <th>patient_nbr</th>\n",
       "      <th>race</th>\n",
       "      <th>gender</th>\n",
       "      <th>age</th>\n",
       "      <th>weight</th>\n",
       "      <th>admission_type_id</th>\n",
       "      <th>discharge_disposition_id</th>\n",
       "      <th>admission_source_id</th>\n",
       "      <th>time_in_hospital</th>\n",
       "      <th>payer_code</th>\n",
       "      <th>medical_specialty</th>\n",
       "      <th>num_lab_procedures</th>\n",
       "      <th>num_procedures</th>\n",
       "      <th>num_medications</th>\n",
       "      <th>number_outpatient</th>\n",
       "      <th>number_emergency</th>\n",
       "      <th>number_inpatient</th>\n",
       "      <th>diag_1</th>\n",
       "      <th>diag_2</th>\n",
       "      <th>diag_3</th>\n",
       "      <th>number_diagnoses</th>\n",
       "      <th>max_glu_serum</th>\n",
       "      <th>A1Cresult</th>\n",
       "      <th>metformin</th>\n",
       "      <th>repaglinide</th>\n",
       "      <th>nateglinide</th>\n",
       "      <th>chlorpropamide</th>\n",
       "      <th>glimepiride</th>\n",
       "      <th>acetohexamide</th>\n",
       "      <th>glipizide</th>\n",
       "      <th>glyburide</th>\n",
       "      <th>tolbutamide</th>\n",
       "      <th>pioglitazone</th>\n",
       "      <th>rosiglitazone</th>\n",
       "      <th>acarbose</th>\n",
       "      <th>miglitol</th>\n",
       "      <th>troglitazone</th>\n",
       "      <th>tolazamide</th>\n",
       "      <th>examide</th>\n",
       "      <th>citoglipton</th>\n",
       "      <th>insulin</th>\n",
       "      <th>glyburide-metformin</th>\n",
       "      <th>glipizide-metformin</th>\n",
       "      <th>glimepiride-pioglitazone</th>\n",
       "      <th>metformin-rosiglitazone</th>\n",
       "      <th>metformin-pioglitazone</th>\n",
       "      <th>change</th>\n",
       "      <th>diabetesMed</th>\n",
       "      <th>readmitted</th>\n",
       "    </tr>\n",
       "  </thead>\n",
       "  <tbody>\n",
       "    <tr>\n",
       "      <th>0</th>\n",
       "      <td>2278392</td>\n",
       "      <td>8222157</td>\n",
       "      <td>Caucasian</td>\n",
       "      <td>Female</td>\n",
       "      <td>[0-10)</td>\n",
       "      <td>?</td>\n",
       "      <td>6</td>\n",
       "      <td>25</td>\n",
       "      <td>1</td>\n",
       "      <td>1</td>\n",
       "      <td>?</td>\n",
       "      <td>Pediatrics-Endocrinology</td>\n",
       "      <td>41</td>\n",
       "      <td>0</td>\n",
       "      <td>1</td>\n",
       "      <td>0</td>\n",
       "      <td>0</td>\n",
       "      <td>0</td>\n",
       "      <td>250.83</td>\n",
       "      <td>?</td>\n",
       "      <td>?</td>\n",
       "      <td>1</td>\n",
       "      <td>None</td>\n",
       "      <td>None</td>\n",
       "      <td>No</td>\n",
       "      <td>No</td>\n",
       "      <td>No</td>\n",
       "      <td>No</td>\n",
       "      <td>No</td>\n",
       "      <td>No</td>\n",
       "      <td>No</td>\n",
       "      <td>No</td>\n",
       "      <td>No</td>\n",
       "      <td>No</td>\n",
       "      <td>No</td>\n",
       "      <td>No</td>\n",
       "      <td>No</td>\n",
       "      <td>No</td>\n",
       "      <td>No</td>\n",
       "      <td>No</td>\n",
       "      <td>No</td>\n",
       "      <td>No</td>\n",
       "      <td>No</td>\n",
       "      <td>No</td>\n",
       "      <td>No</td>\n",
       "      <td>No</td>\n",
       "      <td>No</td>\n",
       "      <td>No</td>\n",
       "      <td>No</td>\n",
       "      <td>NO</td>\n",
       "    </tr>\n",
       "    <tr>\n",
       "      <th>1</th>\n",
       "      <td>149190</td>\n",
       "      <td>55629189</td>\n",
       "      <td>Caucasian</td>\n",
       "      <td>Female</td>\n",
       "      <td>[10-20)</td>\n",
       "      <td>?</td>\n",
       "      <td>1</td>\n",
       "      <td>1</td>\n",
       "      <td>7</td>\n",
       "      <td>3</td>\n",
       "      <td>?</td>\n",
       "      <td>?</td>\n",
       "      <td>59</td>\n",
       "      <td>0</td>\n",
       "      <td>18</td>\n",
       "      <td>0</td>\n",
       "      <td>0</td>\n",
       "      <td>0</td>\n",
       "      <td>276</td>\n",
       "      <td>250.01</td>\n",
       "      <td>255</td>\n",
       "      <td>9</td>\n",
       "      <td>None</td>\n",
       "      <td>None</td>\n",
       "      <td>No</td>\n",
       "      <td>No</td>\n",
       "      <td>No</td>\n",
       "      <td>No</td>\n",
       "      <td>No</td>\n",
       "      <td>No</td>\n",
       "      <td>No</td>\n",
       "      <td>No</td>\n",
       "      <td>No</td>\n",
       "      <td>No</td>\n",
       "      <td>No</td>\n",
       "      <td>No</td>\n",
       "      <td>No</td>\n",
       "      <td>No</td>\n",
       "      <td>No</td>\n",
       "      <td>No</td>\n",
       "      <td>No</td>\n",
       "      <td>Up</td>\n",
       "      <td>No</td>\n",
       "      <td>No</td>\n",
       "      <td>No</td>\n",
       "      <td>No</td>\n",
       "      <td>No</td>\n",
       "      <td>Ch</td>\n",
       "      <td>Yes</td>\n",
       "      <td>&gt;30</td>\n",
       "    </tr>\n",
       "    <tr>\n",
       "      <th>2</th>\n",
       "      <td>64410</td>\n",
       "      <td>86047875</td>\n",
       "      <td>AfricanAmerican</td>\n",
       "      <td>Female</td>\n",
       "      <td>[20-30)</td>\n",
       "      <td>?</td>\n",
       "      <td>1</td>\n",
       "      <td>1</td>\n",
       "      <td>7</td>\n",
       "      <td>2</td>\n",
       "      <td>?</td>\n",
       "      <td>?</td>\n",
       "      <td>11</td>\n",
       "      <td>5</td>\n",
       "      <td>13</td>\n",
       "      <td>2</td>\n",
       "      <td>0</td>\n",
       "      <td>1</td>\n",
       "      <td>648</td>\n",
       "      <td>250</td>\n",
       "      <td>V27</td>\n",
       "      <td>6</td>\n",
       "      <td>None</td>\n",
       "      <td>None</td>\n",
       "      <td>No</td>\n",
       "      <td>No</td>\n",
       "      <td>No</td>\n",
       "      <td>No</td>\n",
       "      <td>No</td>\n",
       "      <td>No</td>\n",
       "      <td>Steady</td>\n",
       "      <td>No</td>\n",
       "      <td>No</td>\n",
       "      <td>No</td>\n",
       "      <td>No</td>\n",
       "      <td>No</td>\n",
       "      <td>No</td>\n",
       "      <td>No</td>\n",
       "      <td>No</td>\n",
       "      <td>No</td>\n",
       "      <td>No</td>\n",
       "      <td>No</td>\n",
       "      <td>No</td>\n",
       "      <td>No</td>\n",
       "      <td>No</td>\n",
       "      <td>No</td>\n",
       "      <td>No</td>\n",
       "      <td>No</td>\n",
       "      <td>Yes</td>\n",
       "      <td>NO</td>\n",
       "    </tr>\n",
       "    <tr>\n",
       "      <th>3</th>\n",
       "      <td>500364</td>\n",
       "      <td>82442376</td>\n",
       "      <td>Caucasian</td>\n",
       "      <td>Male</td>\n",
       "      <td>[30-40)</td>\n",
       "      <td>?</td>\n",
       "      <td>1</td>\n",
       "      <td>1</td>\n",
       "      <td>7</td>\n",
       "      <td>2</td>\n",
       "      <td>?</td>\n",
       "      <td>?</td>\n",
       "      <td>44</td>\n",
       "      <td>1</td>\n",
       "      <td>16</td>\n",
       "      <td>0</td>\n",
       "      <td>0</td>\n",
       "      <td>0</td>\n",
       "      <td>8</td>\n",
       "      <td>250.43</td>\n",
       "      <td>403</td>\n",
       "      <td>7</td>\n",
       "      <td>None</td>\n",
       "      <td>None</td>\n",
       "      <td>No</td>\n",
       "      <td>No</td>\n",
       "      <td>No</td>\n",
       "      <td>No</td>\n",
       "      <td>No</td>\n",
       "      <td>No</td>\n",
       "      <td>No</td>\n",
       "      <td>No</td>\n",
       "      <td>No</td>\n",
       "      <td>No</td>\n",
       "      <td>No</td>\n",
       "      <td>No</td>\n",
       "      <td>No</td>\n",
       "      <td>No</td>\n",
       "      <td>No</td>\n",
       "      <td>No</td>\n",
       "      <td>No</td>\n",
       "      <td>Up</td>\n",
       "      <td>No</td>\n",
       "      <td>No</td>\n",
       "      <td>No</td>\n",
       "      <td>No</td>\n",
       "      <td>No</td>\n",
       "      <td>Ch</td>\n",
       "      <td>Yes</td>\n",
       "      <td>NO</td>\n",
       "    </tr>\n",
       "    <tr>\n",
       "      <th>4</th>\n",
       "      <td>16680</td>\n",
       "      <td>42519267</td>\n",
       "      <td>Caucasian</td>\n",
       "      <td>Male</td>\n",
       "      <td>[40-50)</td>\n",
       "      <td>?</td>\n",
       "      <td>1</td>\n",
       "      <td>1</td>\n",
       "      <td>7</td>\n",
       "      <td>1</td>\n",
       "      <td>?</td>\n",
       "      <td>?</td>\n",
       "      <td>51</td>\n",
       "      <td>0</td>\n",
       "      <td>8</td>\n",
       "      <td>0</td>\n",
       "      <td>0</td>\n",
       "      <td>0</td>\n",
       "      <td>197</td>\n",
       "      <td>157</td>\n",
       "      <td>250</td>\n",
       "      <td>5</td>\n",
       "      <td>None</td>\n",
       "      <td>None</td>\n",
       "      <td>No</td>\n",
       "      <td>No</td>\n",
       "      <td>No</td>\n",
       "      <td>No</td>\n",
       "      <td>No</td>\n",
       "      <td>No</td>\n",
       "      <td>Steady</td>\n",
       "      <td>No</td>\n",
       "      <td>No</td>\n",
       "      <td>No</td>\n",
       "      <td>No</td>\n",
       "      <td>No</td>\n",
       "      <td>No</td>\n",
       "      <td>No</td>\n",
       "      <td>No</td>\n",
       "      <td>No</td>\n",
       "      <td>No</td>\n",
       "      <td>Steady</td>\n",
       "      <td>No</td>\n",
       "      <td>No</td>\n",
       "      <td>No</td>\n",
       "      <td>No</td>\n",
       "      <td>No</td>\n",
       "      <td>Ch</td>\n",
       "      <td>Yes</td>\n",
       "      <td>NO</td>\n",
       "    </tr>\n",
       "  </tbody>\n",
       "</table>\n",
       "</div>"
      ],
      "text/plain": [
       "   encounter_id  patient_nbr             race  gender      age weight  \\\n",
       "0       2278392      8222157        Caucasian  Female   [0-10)      ?   \n",
       "1        149190     55629189        Caucasian  Female  [10-20)      ?   \n",
       "2         64410     86047875  AfricanAmerican  Female  [20-30)      ?   \n",
       "3        500364     82442376        Caucasian    Male  [30-40)      ?   \n",
       "4         16680     42519267        Caucasian    Male  [40-50)      ?   \n",
       "\n",
       "   admission_type_id  discharge_disposition_id  admission_source_id  \\\n",
       "0                  6                        25                    1   \n",
       "1                  1                         1                    7   \n",
       "2                  1                         1                    7   \n",
       "3                  1                         1                    7   \n",
       "4                  1                         1                    7   \n",
       "\n",
       "   time_in_hospital payer_code         medical_specialty  num_lab_procedures  \\\n",
       "0                 1          ?  Pediatrics-Endocrinology                  41   \n",
       "1                 3          ?                         ?                  59   \n",
       "2                 2          ?                         ?                  11   \n",
       "3                 2          ?                         ?                  44   \n",
       "4                 1          ?                         ?                  51   \n",
       "\n",
       "   num_procedures  num_medications  number_outpatient  number_emergency  \\\n",
       "0               0                1                  0                 0   \n",
       "1               0               18                  0                 0   \n",
       "2               5               13                  2                 0   \n",
       "3               1               16                  0                 0   \n",
       "4               0                8                  0                 0   \n",
       "\n",
       "   number_inpatient  diag_1  diag_2 diag_3  number_diagnoses max_glu_serum  \\\n",
       "0                 0  250.83       ?      ?                 1          None   \n",
       "1                 0     276  250.01    255                 9          None   \n",
       "2                 1     648     250    V27                 6          None   \n",
       "3                 0       8  250.43    403                 7          None   \n",
       "4                 0     197     157    250                 5          None   \n",
       "\n",
       "  A1Cresult metformin repaglinide nateglinide chlorpropamide glimepiride  \\\n",
       "0      None        No          No          No             No          No   \n",
       "1      None        No          No          No             No          No   \n",
       "2      None        No          No          No             No          No   \n",
       "3      None        No          No          No             No          No   \n",
       "4      None        No          No          No             No          No   \n",
       "\n",
       "  acetohexamide glipizide glyburide tolbutamide pioglitazone rosiglitazone  \\\n",
       "0            No        No        No          No           No            No   \n",
       "1            No        No        No          No           No            No   \n",
       "2            No    Steady        No          No           No            No   \n",
       "3            No        No        No          No           No            No   \n",
       "4            No    Steady        No          No           No            No   \n",
       "\n",
       "  acarbose miglitol troglitazone tolazamide examide citoglipton insulin  \\\n",
       "0       No       No           No         No      No          No      No   \n",
       "1       No       No           No         No      No          No      Up   \n",
       "2       No       No           No         No      No          No      No   \n",
       "3       No       No           No         No      No          No      Up   \n",
       "4       No       No           No         No      No          No  Steady   \n",
       "\n",
       "  glyburide-metformin glipizide-metformin glimepiride-pioglitazone  \\\n",
       "0                  No                  No                       No   \n",
       "1                  No                  No                       No   \n",
       "2                  No                  No                       No   \n",
       "3                  No                  No                       No   \n",
       "4                  No                  No                       No   \n",
       "\n",
       "  metformin-rosiglitazone metformin-pioglitazone change diabetesMed readmitted  \n",
       "0                      No                     No     No          No         NO  \n",
       "1                      No                     No     Ch         Yes        >30  \n",
       "2                      No                     No     No         Yes         NO  \n",
       "3                      No                     No     Ch         Yes         NO  \n",
       "4                      No                     No     Ch         Yes         NO  "
      ]
     },
     "execution_count": 3,
     "metadata": {},
     "output_type": "execute_result"
    }
   ],
   "source": [
    "df.head()"
   ]
  },
  {
   "cell_type": "code",
   "execution_count": 4,
   "id": "eece1900",
   "metadata": {},
   "outputs": [
    {
     "data": {
      "text/plain": [
       "(101766, 50)"
      ]
     },
     "execution_count": 4,
     "metadata": {},
     "output_type": "execute_result"
    }
   ],
   "source": [
    "df.shape"
   ]
  },
  {
   "cell_type": "code",
   "execution_count": 5,
   "id": "cfb77d64",
   "metadata": {},
   "outputs": [
    {
     "name": "stdout",
     "output_type": "stream",
     "text": [
      "<class 'pandas.core.frame.DataFrame'>\n",
      "RangeIndex: 101766 entries, 0 to 101765\n",
      "Data columns (total 50 columns):\n",
      " #   Column                    Non-Null Count   Dtype \n",
      "---  ------                    --------------   ----- \n",
      " 0   encounter_id              101766 non-null  int64 \n",
      " 1   patient_nbr               101766 non-null  int64 \n",
      " 2   race                      101766 non-null  object\n",
      " 3   gender                    101766 non-null  object\n",
      " 4   age                       101766 non-null  object\n",
      " 5   weight                    101766 non-null  object\n",
      " 6   admission_type_id         101766 non-null  int64 \n",
      " 7   discharge_disposition_id  101766 non-null  int64 \n",
      " 8   admission_source_id       101766 non-null  int64 \n",
      " 9   time_in_hospital          101766 non-null  int64 \n",
      " 10  payer_code                101766 non-null  object\n",
      " 11  medical_specialty         101766 non-null  object\n",
      " 12  num_lab_procedures        101766 non-null  int64 \n",
      " 13  num_procedures            101766 non-null  int64 \n",
      " 14  num_medications           101766 non-null  int64 \n",
      " 15  number_outpatient         101766 non-null  int64 \n",
      " 16  number_emergency          101766 non-null  int64 \n",
      " 17  number_inpatient          101766 non-null  int64 \n",
      " 18  diag_1                    101766 non-null  object\n",
      " 19  diag_2                    101766 non-null  object\n",
      " 20  diag_3                    101766 non-null  object\n",
      " 21  number_diagnoses          101766 non-null  int64 \n",
      " 22  max_glu_serum             101766 non-null  object\n",
      " 23  A1Cresult                 101766 non-null  object\n",
      " 24  metformin                 101766 non-null  object\n",
      " 25  repaglinide               101766 non-null  object\n",
      " 26  nateglinide               101766 non-null  object\n",
      " 27  chlorpropamide            101766 non-null  object\n",
      " 28  glimepiride               101766 non-null  object\n",
      " 29  acetohexamide             101766 non-null  object\n",
      " 30  glipizide                 101766 non-null  object\n",
      " 31  glyburide                 101766 non-null  object\n",
      " 32  tolbutamide               101766 non-null  object\n",
      " 33  pioglitazone              101766 non-null  object\n",
      " 34  rosiglitazone             101766 non-null  object\n",
      " 35  acarbose                  101766 non-null  object\n",
      " 36  miglitol                  101766 non-null  object\n",
      " 37  troglitazone              101766 non-null  object\n",
      " 38  tolazamide                101766 non-null  object\n",
      " 39  examide                   101766 non-null  object\n",
      " 40  citoglipton               101766 non-null  object\n",
      " 41  insulin                   101766 non-null  object\n",
      " 42  glyburide-metformin       101766 non-null  object\n",
      " 43  glipizide-metformin       101766 non-null  object\n",
      " 44  glimepiride-pioglitazone  101766 non-null  object\n",
      " 45  metformin-rosiglitazone   101766 non-null  object\n",
      " 46  metformin-pioglitazone    101766 non-null  object\n",
      " 47  change                    101766 non-null  object\n",
      " 48  diabetesMed               101766 non-null  object\n",
      " 49  readmitted                101766 non-null  object\n",
      "dtypes: int64(13), object(37)\n",
      "memory usage: 38.8+ MB\n"
     ]
    }
   ],
   "source": [
    "df.info()"
   ]
  },
  {
   "cell_type": "raw",
   "id": "22c2cc2a",
   "metadata": {},
   "source": [
    "VARIABLES:\n",
    "Patient identifiers :- encounter_id, patient_nbr\n",
    "Patient demographics :- race, gender, age, weight ,payer_code\n",
    "\n",
    "Admission and Discharge details :- admission_source_id ,admission_type_id,\n",
    "discharge_disposition_id\n",
    "\n",
    "Patient medical history :- number_outpatient .,number_inpatient, number_emergency.\n",
    "\n",
    "Patient Admission details :- medical_speacialty diag_l, diag_2 and diag_3, time_in_hospital,\n",
    "number_diagnoses, num_lab_procedures, num_procedures, num_medications\n",
    "\n",
    "Clinical Results :- max_glu_serum, Alcresult\n",
    "Medication Details :- diabetesMed, change, 23 features for medications\n",
    "\n",
    "Readmission Indicator :- readmitted\n"
   ]
  },
  {
   "cell_type": "code",
   "execution_count": 6,
   "id": "94b7218d",
   "metadata": {},
   "outputs": [
    {
     "name": "stdout",
     "output_type": "stream",
     "text": [
      "According to the data thre are total 50 columns\n",
      "Total categorical columns: 37\n",
      "\n",
      "\n",
      "Catergorical column names: Index(['race', 'gender', 'age', 'weight', 'payer_code', 'medical_specialty',\n",
      "       'diag_1', 'diag_2', 'diag_3', 'max_glu_serum', 'A1Cresult', 'metformin',\n",
      "       'repaglinide', 'nateglinide', 'chlorpropamide', 'glimepiride',\n",
      "       'acetohexamide', 'glipizide', 'glyburide', 'tolbutamide',\n",
      "       'pioglitazone', 'rosiglitazone', 'acarbose', 'miglitol', 'troglitazone',\n",
      "       'tolazamide', 'examide', 'citoglipton', 'insulin',\n",
      "       'glyburide-metformin', 'glipizide-metformin',\n",
      "       'glimepiride-pioglitazone', 'metformin-rosiglitazone',\n",
      "       'metformin-pioglitazone', 'change', 'diabetesMed', 'readmitted'],\n",
      "      dtype='object')\n",
      "\n",
      "\n",
      "Total numerical columns:  13\n",
      "\n",
      "\n",
      "Numerical column names:  Index(['encounter_id', 'patient_nbr', 'admission_type_id',\n",
      "       'discharge_disposition_id', 'admission_source_id', 'time_in_hospital',\n",
      "       'num_lab_procedures', 'num_procedures', 'num_medications',\n",
      "       'number_outpatient', 'number_emergency', 'number_inpatient',\n",
      "       'number_diagnoses'],\n",
      "      dtype='object')\n"
     ]
    }
   ],
   "source": [
    "print('According to the data thre are total 50 columns')\n",
    "df_cat=df.select_dtypes(include=np.object)\n",
    "df_num=df.select_dtypes(include=np.number)\n",
    "print('Total categorical columns:',len(df_cat.columns))\n",
    "print('\\n')\n",
    "print('Catergorical column names:',df_cat.columns)\n",
    "print('\\n')\n",
    "print('Total numerical columns: ',len(df_num.columns))\n",
    "print('\\n')\n",
    "print('Numerical column names: ',df_num.columns)"
   ]
  },
  {
   "cell_type": "markdown",
   "id": "98bd3db9",
   "metadata": {},
   "source": [
    "Special characters in data or not"
   ]
  },
  {
   "cell_type": "code",
   "execution_count": 7,
   "id": "4339ba06",
   "metadata": {},
   "outputs": [
    {
     "name": "stdout",
     "output_type": "stream",
     "text": [
      "race 2273\n",
      "gender 0\n",
      "age 0\n",
      "weight 98569\n",
      "payer_code 40256\n",
      "medical_specialty 49949\n",
      "diag_1 21\n",
      "diag_2 358\n",
      "diag_3 1423\n",
      "max_glu_serum 0\n",
      "A1Cresult 0\n",
      "metformin 0\n",
      "repaglinide 0\n",
      "nateglinide 0\n",
      "chlorpropamide 0\n",
      "glimepiride 0\n",
      "acetohexamide 0\n",
      "glipizide 0\n",
      "glyburide 0\n",
      "tolbutamide 0\n",
      "pioglitazone 0\n",
      "rosiglitazone 0\n",
      "acarbose 0\n",
      "miglitol 0\n",
      "troglitazone 0\n",
      "tolazamide 0\n",
      "examide 0\n",
      "citoglipton 0\n",
      "insulin 0\n",
      "glyburide-metformin 0\n",
      "glipizide-metformin 0\n",
      "glimepiride-pioglitazone 0\n",
      "metformin-rosiglitazone 0\n",
      "metformin-pioglitazone 0\n",
      "change 0\n",
      "diabetesMed 0\n",
      "readmitted 0\n"
     ]
    }
   ],
   "source": [
    "for i in df.columns:\n",
    "    if df[i].dtype == object:\n",
    "        print(i,df[i][df[i] == '?'].count())"
   ]
  },
  {
   "cell_type": "code",
   "execution_count": 8,
   "id": "12e31810",
   "metadata": {},
   "outputs": [],
   "source": [
    "#dropping columns with large number of missing values\n",
    "df = df.drop(['weight','payer_code','medical_specialty'],axis=1)"
   ]
  },
  {
   "cell_type": "raw",
   "id": "fa034f84",
   "metadata": {},
   "source": [
    "df.describe()"
   ]
  },
  {
   "cell_type": "markdown",
   "id": "2fd0410a",
   "metadata": {},
   "source": [
    "There are total 50 features"
   ]
  },
  {
   "cell_type": "markdown",
   "id": "70f4db7d",
   "metadata": {},
   "source": [
    "1.encounter_id:"
   ]
  },
  {
   "cell_type": "code",
   "execution_count": 14,
   "id": "217514ab",
   "metadata": {},
   "outputs": [
    {
     "data": {
      "text/plain": [
       "101766"
      ]
     },
     "execution_count": 14,
     "metadata": {},
     "output_type": "execute_result"
    }
   ],
   "source": [
    "df['encounter_id'].nunique()"
   ]
  },
  {
   "cell_type": "raw",
   "id": "957a0239",
   "metadata": {},
   "source": [
    "Patients that have come to hospital have been provided with unique encounter_id so 101766"
   ]
  },
  {
   "cell_type": "markdown",
   "id": "a2addf05",
   "metadata": {},
   "source": [
    "2. patient_nbr"
   ]
  },
  {
   "cell_type": "code",
   "execution_count": 15,
   "id": "71add348",
   "metadata": {},
   "outputs": [
    {
     "data": {
      "text/plain": [
       "71518"
      ]
     },
     "execution_count": 15,
     "metadata": {},
     "output_type": "execute_result"
    }
   ],
   "source": [
    "df['patient_nbr'].nunique()"
   ]
  },
  {
   "cell_type": "markdown",
   "id": "47a07c2d",
   "metadata": {},
   "source": [
    "There are 71518 unique patients that have entered the systems\n",
    "These are just identifiers not useful variables so they can be dropped in future analysis"
   ]
  },
  {
   "cell_type": "code",
   "execution_count": 17,
   "id": "702ecfe8",
   "metadata": {},
   "outputs": [],
   "source": [
    "#dropping not useful data\n",
    "df.drop(['encounter_id','patient_nbr'],axis=1,inplace=True)"
   ]
  },
  {
   "cell_type": "code",
   "execution_count": 18,
   "id": "ac306c6f",
   "metadata": {},
   "outputs": [
    {
     "data": {
      "text/plain": [
       "Caucasian          76099\n",
       "AfricanAmerican    19210\n",
       "?                   2273\n",
       "Hispanic            2037\n",
       "Other               1506\n",
       "Asian                641\n",
       "Name: race, dtype: int64"
      ]
     },
     "execution_count": 18,
     "metadata": {},
     "output_type": "execute_result"
    }
   ],
   "source": [
    "df['race'].value_counts()"
   ]
  },
  {
   "cell_type": "markdown",
   "id": "28ff982b",
   "metadata": {},
   "source": [
    "Replacing '?' values with nan values"
   ]
  },
  {
   "cell_type": "code",
   "execution_count": 19,
   "id": "371b5690",
   "metadata": {},
   "outputs": [],
   "source": [
    "df['race']=df['race'].replace('?',np.nan)"
   ]
  },
  {
   "cell_type": "code",
   "execution_count": 20,
   "id": "d39805ff",
   "metadata": {},
   "outputs": [
    {
     "data": {
      "text/plain": [
       "array(['Caucasian', 'AfricanAmerican', nan, 'Other', 'Asian', 'Hispanic'],\n",
       "      dtype=object)"
      ]
     },
     "execution_count": 20,
     "metadata": {},
     "output_type": "execute_result"
    }
   ],
   "source": [
    "df['race'].unique()"
   ]
  },
  {
   "cell_type": "code",
   "execution_count": 21,
   "id": "f3eeb452",
   "metadata": {},
   "outputs": [],
   "source": [
    "df['race']=df['race'].fillna(df['race'].mode()[0]) #replacing with mode"
   ]
  },
  {
   "cell_type": "code",
   "execution_count": 22,
   "id": "08b2b1d6",
   "metadata": {},
   "outputs": [
    {
     "data": {
      "text/plain": [
       "Caucasian          78372\n",
       "AfricanAmerican    19210\n",
       "Hispanic            2037\n",
       "Other               1506\n",
       "Asian                641\n",
       "Name: race, dtype: int64"
      ]
     },
     "execution_count": 22,
     "metadata": {},
     "output_type": "execute_result"
    }
   ],
   "source": [
    "df['race'].value_counts()"
   ]
  },
  {
   "cell_type": "code",
   "execution_count": 23,
   "id": "2aabd419",
   "metadata": {},
   "outputs": [],
   "source": [
    "df['gender']=df['gender'].replace('Unknown/Invalid',np.nan)\n",
    "df['gender'].dropna(inplace=True)"
   ]
  },
  {
   "cell_type": "code",
   "execution_count": 24,
   "id": "a2c4e606",
   "metadata": {},
   "outputs": [
    {
     "data": {
      "text/plain": [
       "Female    54708\n",
       "Male      47055\n",
       "Name: gender, dtype: int64"
      ]
     },
     "execution_count": 24,
     "metadata": {},
     "output_type": "execute_result"
    }
   ],
   "source": [
    "df['gender'].value_counts()"
   ]
  },
  {
   "cell_type": "code",
   "execution_count": 25,
   "id": "512bfa84",
   "metadata": {},
   "outputs": [
    {
     "data": {
      "text/plain": [
       "array(['Female', 'Male', nan], dtype=object)"
      ]
     },
     "execution_count": 25,
     "metadata": {},
     "output_type": "execute_result"
    }
   ],
   "source": [
    "df['gender'].unique()"
   ]
  },
  {
   "cell_type": "code",
   "execution_count": 26,
   "id": "5d13e6ba",
   "metadata": {},
   "outputs": [],
   "source": [
    "df['gender']=df['gender'].fillna(df['gender'].mode()[0])"
   ]
  },
  {
   "cell_type": "code",
   "execution_count": 27,
   "id": "c4ccb9ea",
   "metadata": {},
   "outputs": [
    {
     "data": {
      "text/plain": [
       "Female    54711\n",
       "Male      47055\n",
       "Name: gender, dtype: int64"
      ]
     },
     "execution_count": 27,
     "metadata": {},
     "output_type": "execute_result"
    }
   ],
   "source": [
    "df['gender'].value_counts()"
   ]
  },
  {
   "cell_type": "markdown",
   "id": "43870931",
   "metadata": {},
   "source": [
    "df.replace('?',np.nan,inplace=True)"
   ]
  },
  {
   "cell_type": "code",
   "execution_count": 28,
   "id": "49a6661e",
   "metadata": {},
   "outputs": [
    {
     "data": {
      "text/plain": [
       "race                        0\n",
       "gender                      0\n",
       "age                         0\n",
       "admission_type_id           0\n",
       "discharge_disposition_id    0\n",
       "admission_source_id         0\n",
       "time_in_hospital            0\n",
       "num_lab_procedures          0\n",
       "num_procedures              0\n",
       "num_medications             0\n",
       "number_outpatient           0\n",
       "number_emergency            0\n",
       "number_inpatient            0\n",
       "diag_1                      0\n",
       "diag_2                      0\n",
       "diag_3                      0\n",
       "number_diagnoses            0\n",
       "max_glu_serum               0\n",
       "A1Cresult                   0\n",
       "metformin                   0\n",
       "repaglinide                 0\n",
       "nateglinide                 0\n",
       "chlorpropamide              0\n",
       "glimepiride                 0\n",
       "acetohexamide               0\n",
       "glipizide                   0\n",
       "glyburide                   0\n",
       "tolbutamide                 0\n",
       "pioglitazone                0\n",
       "rosiglitazone               0\n",
       "acarbose                    0\n",
       "miglitol                    0\n",
       "troglitazone                0\n",
       "tolazamide                  0\n",
       "examide                     0\n",
       "citoglipton                 0\n",
       "insulin                     0\n",
       "glyburide-metformin         0\n",
       "glipizide-metformin         0\n",
       "glimepiride-pioglitazone    0\n",
       "metformin-rosiglitazone     0\n",
       "metformin-pioglitazone      0\n",
       "change                      0\n",
       "diabetesMed                 0\n",
       "readmitted                  0\n",
       "dtype: int64"
      ]
     },
     "execution_count": 28,
     "metadata": {},
     "output_type": "execute_result"
    }
   ],
   "source": [
    "df.isnull().sum()"
   ]
  },
  {
   "cell_type": "code",
   "execution_count": 29,
   "id": "928b9a46",
   "metadata": {},
   "outputs": [
    {
     "data": {
      "text/plain": [
       "[70-80)     26068\n",
       "[60-70)     22483\n",
       "[50-60)     17256\n",
       "[80-90)     17197\n",
       "[40-50)      9685\n",
       "[30-40)      3775\n",
       "[90-100)     2793\n",
       "[20-30)      1657\n",
       "[10-20)       691\n",
       "[0-10)        161\n",
       "Name: age, dtype: int64"
      ]
     },
     "execution_count": 29,
     "metadata": {},
     "output_type": "execute_result"
    }
   ],
   "source": [
    "df['age'].value_counts()"
   ]
  },
  {
   "cell_type": "code",
   "execution_count": 30,
   "id": "dc25105a",
   "metadata": {},
   "outputs": [
    {
     "data": {
      "text/plain": [
       "array(['[0-10)', '[10-20)', '[20-30)', '[30-40)', '[40-50)', '[50-60)',\n",
       "       '[60-70)', '[70-80)', '[80-90)', '[90-100)'], dtype=object)"
      ]
     },
     "execution_count": 30,
     "metadata": {},
     "output_type": "execute_result"
    }
   ],
   "source": [
    "df['age'].unique()"
   ]
  },
  {
   "cell_type": "code",
   "execution_count": 31,
   "id": "013f528b",
   "metadata": {},
   "outputs": [],
   "source": [
    "df['age']=df['age'].replace({'[0-10)':5, '[10-20)':15, '[20-30)':125, '[30-40)':35, '[40-50)':45,'[50-60)':55, '[60-70)':65, '[70-80)':75,'[80-90)':85, '[90-100)':95,})"
   ]
  },
  {
   "cell_type": "code",
   "execution_count": 32,
   "id": "7d2ffefe",
   "metadata": {},
   "outputs": [
    {
     "data": {
      "text/plain": [
       "75     26068\n",
       "65     22483\n",
       "55     17256\n",
       "85     17197\n",
       "45      9685\n",
       "35      3775\n",
       "95      2793\n",
       "125     1657\n",
       "15       691\n",
       "5        161\n",
       "Name: age, dtype: int64"
      ]
     },
     "execution_count": 32,
     "metadata": {},
     "output_type": "execute_result"
    }
   ],
   "source": [
    "df.age.value_counts()"
   ]
  },
  {
   "cell_type": "markdown",
   "id": "35220654",
   "metadata": {},
   "source": [
    "Shows age between 0 to 100\n",
    "Most of the population come under 50-80\n",
    "\n",
    "As the dataset gives us the 10 year intervels we assume age to be 45 if its between(40-50)"
   ]
  },
  {
   "cell_type": "code",
   "execution_count": 33,
   "id": "e4c9f6f4",
   "metadata": {},
   "outputs": [
    {
     "data": {
      "text/plain": [
       "array([  5,  15, 125,  35,  45,  55,  65,  75,  85,  95], dtype=int64)"
      ]
     },
     "execution_count": 33,
     "metadata": {},
     "output_type": "execute_result"
    }
   ],
   "source": [
    "df['age'].unique()"
   ]
  },
  {
   "cell_type": "code",
   "execution_count": 34,
   "id": "b3e22439",
   "metadata": {},
   "outputs": [],
   "source": [
    "df['age']=df['age'].replace({'[0-10)':5, '[10-20)':15, '[20-30)':125, '[30-40)':35, '[40-50)':45,'[50-60)':55, '[60-70)':65, '[70-80)':75,'[80-90)':85, '[90-100)':95,})"
   ]
  },
  {
   "cell_type": "code",
   "execution_count": 35,
   "id": "9aa3498f",
   "metadata": {},
   "outputs": [
    {
     "data": {
      "text/plain": [
       "75     26068\n",
       "65     22483\n",
       "55     17256\n",
       "85     17197\n",
       "45      9685\n",
       "35      3775\n",
       "95      2793\n",
       "125     1657\n",
       "15       691\n",
       "5        161\n",
       "Name: age, dtype: int64"
      ]
     },
     "execution_count": 35,
     "metadata": {},
     "output_type": "execute_result"
    }
   ],
   "source": [
    "df.age.value_counts()"
   ]
  },
  {
   "cell_type": "markdown",
   "id": "97cd2fe3",
   "metadata": {},
   "source": [
    "6.admission_type_id"
   ]
  },
  {
   "cell_type": "code",
   "execution_count": 36,
   "id": "0149be8f",
   "metadata": {},
   "outputs": [
    {
     "data": {
      "text/plain": [
       "1    53990\n",
       "3    18869\n",
       "2    18480\n",
       "6     5291\n",
       "5     4785\n",
       "8      320\n",
       "7       21\n",
       "4       10\n",
       "Name: admission_type_id, dtype: int64"
      ]
     },
     "execution_count": 36,
     "metadata": {},
     "output_type": "execute_result"
    }
   ],
   "source": [
    "df['admission_type_id'].value_counts()"
   ]
  },
  {
   "cell_type": "markdown",
   "id": "0e3c4e6a",
   "metadata": {},
   "source": [
    "Importing ID's mapping CSV"
   ]
  },
  {
   "cell_type": "code",
   "execution_count": 37,
   "id": "bf8a8056",
   "metadata": {},
   "outputs": [],
   "source": [
    "ID_map=pd.read_csv(r'C:\\Users\\FREYA RACHEL\\OneDrive\\Desktop\\archive\\IDs_mapping.csv')"
   ]
  },
  {
   "cell_type": "code",
   "execution_count": 38,
   "id": "49576074",
   "metadata": {},
   "outputs": [
    {
     "data": {
      "text/html": [
       "<div>\n",
       "<style scoped>\n",
       "    .dataframe tbody tr th:only-of-type {\n",
       "        vertical-align: middle;\n",
       "    }\n",
       "\n",
       "    .dataframe tbody tr th {\n",
       "        vertical-align: top;\n",
       "    }\n",
       "\n",
       "    .dataframe thead th {\n",
       "        text-align: right;\n",
       "    }\n",
       "</style>\n",
       "<table border=\"1\" class=\"dataframe\">\n",
       "  <thead>\n",
       "    <tr style=\"text-align: right;\">\n",
       "      <th></th>\n",
       "      <th>admission_type_id</th>\n",
       "      <th>description</th>\n",
       "    </tr>\n",
       "  </thead>\n",
       "  <tbody>\n",
       "    <tr>\n",
       "      <th>0</th>\n",
       "      <td>1</td>\n",
       "      <td>Emergency</td>\n",
       "    </tr>\n",
       "    <tr>\n",
       "      <th>1</th>\n",
       "      <td>2</td>\n",
       "      <td>Urgent</td>\n",
       "    </tr>\n",
       "    <tr>\n",
       "      <th>2</th>\n",
       "      <td>3</td>\n",
       "      <td>Elective</td>\n",
       "    </tr>\n",
       "    <tr>\n",
       "      <th>3</th>\n",
       "      <td>4</td>\n",
       "      <td>Newborn</td>\n",
       "    </tr>\n",
       "    <tr>\n",
       "      <th>4</th>\n",
       "      <td>5</td>\n",
       "      <td>Not Available</td>\n",
       "    </tr>\n",
       "    <tr>\n",
       "      <th>5</th>\n",
       "      <td>6</td>\n",
       "      <td>NaN</td>\n",
       "    </tr>\n",
       "    <tr>\n",
       "      <th>6</th>\n",
       "      <td>7</td>\n",
       "      <td>Trauma Center</td>\n",
       "    </tr>\n",
       "    <tr>\n",
       "      <th>7</th>\n",
       "      <td>8</td>\n",
       "      <td>Not Mapped</td>\n",
       "    </tr>\n",
       "  </tbody>\n",
       "</table>\n",
       "</div>"
      ],
      "text/plain": [
       "  admission_type_id    description\n",
       "0                 1      Emergency\n",
       "1                 2         Urgent\n",
       "2                 3       Elective\n",
       "3                 4        Newborn\n",
       "4                 5  Not Available\n",
       "5                 6            NaN\n",
       "6                 7  Trauma Center\n",
       "7                 8     Not Mapped"
      ]
     },
     "execution_count": 38,
     "metadata": {},
     "output_type": "execute_result"
    }
   ],
   "source": [
    "ID_map.loc[:,['admission_type_id','description']].head(8)"
   ]
  },
  {
   "cell_type": "markdown",
   "id": "71492b77",
   "metadata": {},
   "source": [
    "According to ID's mapping"
   ]
  },
  {
   "cell_type": "markdown",
   "id": "e7546247",
   "metadata": {},
   "source": [
    "admission_type_id descripton:\n",
    "    \n",
    "These 8 values correspond to:\n",
    "\n",
    "    1.Emergency\n",
    "    2.Urgent\n",
    "    3.Elective\n",
    "    4.Newborn\n",
    "    5.Not Available\n",
    "    6.NULL\n",
    "    7.Trauma Center\n",
    "    8.Not Mapped\n",
    "    \n",
    "    -majorly admitted patients that have been admitted in this hospital have an admission in this hospitalhave an admission type of emergency\n",
    "    -we cam merge intp less number of catergories\n",
    "    -Emergency/Urgent/Trauma Center - TO-Emergency\n",
    "    -Not Available/Null/Not Mapped- TO -Not Available\n",
    "    -Elective & New Born remain same"
   ]
  },
  {
   "cell_type": "code",
   "execution_count": 39,
   "id": "3dbb9f26",
   "metadata": {},
   "outputs": [
    {
     "data": {
      "text/plain": [
       "Emergency        72491\n",
       "Elective         18869\n",
       "Not Available    10396\n",
       "Newborn             10\n",
       "Name: admission_type_id, dtype: int64"
      ]
     },
     "execution_count": 39,
     "metadata": {},
     "output_type": "execute_result"
    }
   ],
   "source": [
    "df['admission_type_id']=df['admission_type_id'].replace({1:'Emergency',2: 'Emergency',7:'Emergency',5:'Not Available',6:'Not Available',8:'Not Available',3:'Elective',4:'Newborn'})\n",
    "df['admission_type_id'].value_counts()"
   ]
  },
  {
   "cell_type": "markdown",
   "id": "266b48b5",
   "metadata": {},
   "source": [
    "#dropping newborn catergory as its not giving correct info if we compare it with age"
   ]
  },
  {
   "cell_type": "code",
   "execution_count": 41,
   "id": "ce1f7deb",
   "metadata": {},
   "outputs": [
    {
     "data": {
      "text/html": [
       "<div>\n",
       "<style scoped>\n",
       "    .dataframe tbody tr th:only-of-type {\n",
       "        vertical-align: middle;\n",
       "    }\n",
       "\n",
       "    .dataframe tbody tr th {\n",
       "        vertical-align: top;\n",
       "    }\n",
       "\n",
       "    .dataframe thead th {\n",
       "        text-align: right;\n",
       "    }\n",
       "</style>\n",
       "<table border=\"1\" class=\"dataframe\">\n",
       "  <thead>\n",
       "    <tr style=\"text-align: right;\">\n",
       "      <th></th>\n",
       "      <th>race</th>\n",
       "      <th>gender</th>\n",
       "      <th>age</th>\n",
       "      <th>admission_type_id</th>\n",
       "      <th>discharge_disposition_id</th>\n",
       "      <th>admission_source_id</th>\n",
       "      <th>time_in_hospital</th>\n",
       "      <th>num_lab_procedures</th>\n",
       "      <th>num_procedures</th>\n",
       "      <th>num_medications</th>\n",
       "      <th>number_outpatient</th>\n",
       "      <th>number_emergency</th>\n",
       "      <th>number_inpatient</th>\n",
       "      <th>diag_1</th>\n",
       "      <th>diag_2</th>\n",
       "      <th>diag_3</th>\n",
       "      <th>number_diagnoses</th>\n",
       "      <th>max_glu_serum</th>\n",
       "      <th>A1Cresult</th>\n",
       "      <th>metformin</th>\n",
       "      <th>repaglinide</th>\n",
       "      <th>nateglinide</th>\n",
       "      <th>chlorpropamide</th>\n",
       "      <th>glimepiride</th>\n",
       "      <th>acetohexamide</th>\n",
       "      <th>glipizide</th>\n",
       "      <th>glyburide</th>\n",
       "      <th>tolbutamide</th>\n",
       "      <th>pioglitazone</th>\n",
       "      <th>rosiglitazone</th>\n",
       "      <th>acarbose</th>\n",
       "      <th>miglitol</th>\n",
       "      <th>troglitazone</th>\n",
       "      <th>tolazamide</th>\n",
       "      <th>examide</th>\n",
       "      <th>citoglipton</th>\n",
       "      <th>insulin</th>\n",
       "      <th>glyburide-metformin</th>\n",
       "      <th>glipizide-metformin</th>\n",
       "      <th>glimepiride-pioglitazone</th>\n",
       "      <th>metformin-rosiglitazone</th>\n",
       "      <th>metformin-pioglitazone</th>\n",
       "      <th>change</th>\n",
       "      <th>diabetesMed</th>\n",
       "      <th>readmitted</th>\n",
       "    </tr>\n",
       "  </thead>\n",
       "  <tbody>\n",
       "    <tr>\n",
       "      <th>2043</th>\n",
       "      <td>Caucasian</td>\n",
       "      <td>Male</td>\n",
       "      <td>55</td>\n",
       "      <td>Newborn</td>\n",
       "      <td>1</td>\n",
       "      <td>4</td>\n",
       "      <td>2</td>\n",
       "      <td>56</td>\n",
       "      <td>2</td>\n",
       "      <td>13</td>\n",
       "      <td>0</td>\n",
       "      <td>0</td>\n",
       "      <td>0</td>\n",
       "      <td>414</td>\n",
       "      <td>411</td>\n",
       "      <td>401</td>\n",
       "      <td>5</td>\n",
       "      <td>None</td>\n",
       "      <td>None</td>\n",
       "      <td>No</td>\n",
       "      <td>No</td>\n",
       "      <td>No</td>\n",
       "      <td>No</td>\n",
       "      <td>No</td>\n",
       "      <td>No</td>\n",
       "      <td>No</td>\n",
       "      <td>No</td>\n",
       "      <td>No</td>\n",
       "      <td>No</td>\n",
       "      <td>No</td>\n",
       "      <td>No</td>\n",
       "      <td>No</td>\n",
       "      <td>No</td>\n",
       "      <td>No</td>\n",
       "      <td>No</td>\n",
       "      <td>No</td>\n",
       "      <td>Steady</td>\n",
       "      <td>No</td>\n",
       "      <td>No</td>\n",
       "      <td>No</td>\n",
       "      <td>No</td>\n",
       "      <td>No</td>\n",
       "      <td>No</td>\n",
       "      <td>Yes</td>\n",
       "      <td>NO</td>\n",
       "    </tr>\n",
       "    <tr>\n",
       "      <th>2203</th>\n",
       "      <td>Caucasian</td>\n",
       "      <td>Male</td>\n",
       "      <td>85</td>\n",
       "      <td>Newborn</td>\n",
       "      <td>1</td>\n",
       "      <td>4</td>\n",
       "      <td>2</td>\n",
       "      <td>46</td>\n",
       "      <td>6</td>\n",
       "      <td>14</td>\n",
       "      <td>0</td>\n",
       "      <td>0</td>\n",
       "      <td>0</td>\n",
       "      <td>414</td>\n",
       "      <td>411</td>\n",
       "      <td>401</td>\n",
       "      <td>6</td>\n",
       "      <td>None</td>\n",
       "      <td>None</td>\n",
       "      <td>No</td>\n",
       "      <td>No</td>\n",
       "      <td>No</td>\n",
       "      <td>No</td>\n",
       "      <td>No</td>\n",
       "      <td>No</td>\n",
       "      <td>No</td>\n",
       "      <td>No</td>\n",
       "      <td>No</td>\n",
       "      <td>No</td>\n",
       "      <td>No</td>\n",
       "      <td>No</td>\n",
       "      <td>No</td>\n",
       "      <td>No</td>\n",
       "      <td>No</td>\n",
       "      <td>No</td>\n",
       "      <td>No</td>\n",
       "      <td>Steady</td>\n",
       "      <td>No</td>\n",
       "      <td>No</td>\n",
       "      <td>No</td>\n",
       "      <td>No</td>\n",
       "      <td>No</td>\n",
       "      <td>No</td>\n",
       "      <td>Yes</td>\n",
       "      <td>&gt;30</td>\n",
       "    </tr>\n",
       "    <tr>\n",
       "      <th>2461</th>\n",
       "      <td>AfricanAmerican</td>\n",
       "      <td>Male</td>\n",
       "      <td>75</td>\n",
       "      <td>Newborn</td>\n",
       "      <td>6</td>\n",
       "      <td>4</td>\n",
       "      <td>5</td>\n",
       "      <td>73</td>\n",
       "      <td>1</td>\n",
       "      <td>12</td>\n",
       "      <td>0</td>\n",
       "      <td>0</td>\n",
       "      <td>0</td>\n",
       "      <td>562</td>\n",
       "      <td>428</td>\n",
       "      <td>250.52</td>\n",
       "      <td>9</td>\n",
       "      <td>None</td>\n",
       "      <td>None</td>\n",
       "      <td>No</td>\n",
       "      <td>No</td>\n",
       "      <td>No</td>\n",
       "      <td>No</td>\n",
       "      <td>No</td>\n",
       "      <td>No</td>\n",
       "      <td>No</td>\n",
       "      <td>No</td>\n",
       "      <td>No</td>\n",
       "      <td>No</td>\n",
       "      <td>No</td>\n",
       "      <td>No</td>\n",
       "      <td>No</td>\n",
       "      <td>No</td>\n",
       "      <td>No</td>\n",
       "      <td>No</td>\n",
       "      <td>No</td>\n",
       "      <td>Up</td>\n",
       "      <td>No</td>\n",
       "      <td>No</td>\n",
       "      <td>No</td>\n",
       "      <td>No</td>\n",
       "      <td>No</td>\n",
       "      <td>Ch</td>\n",
       "      <td>Yes</td>\n",
       "      <td>NO</td>\n",
       "    </tr>\n",
       "    <tr>\n",
       "      <th>4823</th>\n",
       "      <td>Caucasian</td>\n",
       "      <td>Female</td>\n",
       "      <td>65</td>\n",
       "      <td>Newborn</td>\n",
       "      <td>6</td>\n",
       "      <td>4</td>\n",
       "      <td>2</td>\n",
       "      <td>39</td>\n",
       "      <td>0</td>\n",
       "      <td>7</td>\n",
       "      <td>0</td>\n",
       "      <td>0</td>\n",
       "      <td>0</td>\n",
       "      <td>250.82</td>\n",
       "      <td>707</td>\n",
       "      <td>401</td>\n",
       "      <td>9</td>\n",
       "      <td>None</td>\n",
       "      <td>None</td>\n",
       "      <td>No</td>\n",
       "      <td>No</td>\n",
       "      <td>No</td>\n",
       "      <td>No</td>\n",
       "      <td>No</td>\n",
       "      <td>No</td>\n",
       "      <td>No</td>\n",
       "      <td>No</td>\n",
       "      <td>No</td>\n",
       "      <td>No</td>\n",
       "      <td>No</td>\n",
       "      <td>No</td>\n",
       "      <td>No</td>\n",
       "      <td>No</td>\n",
       "      <td>No</td>\n",
       "      <td>No</td>\n",
       "      <td>No</td>\n",
       "      <td>Steady</td>\n",
       "      <td>No</td>\n",
       "      <td>No</td>\n",
       "      <td>No</td>\n",
       "      <td>No</td>\n",
       "      <td>No</td>\n",
       "      <td>No</td>\n",
       "      <td>Yes</td>\n",
       "      <td>&lt;30</td>\n",
       "    </tr>\n",
       "    <tr>\n",
       "      <th>35877</th>\n",
       "      <td>AfricanAmerican</td>\n",
       "      <td>Male</td>\n",
       "      <td>65</td>\n",
       "      <td>Newborn</td>\n",
       "      <td>1</td>\n",
       "      <td>14</td>\n",
       "      <td>3</td>\n",
       "      <td>66</td>\n",
       "      <td>0</td>\n",
       "      <td>18</td>\n",
       "      <td>0</td>\n",
       "      <td>0</td>\n",
       "      <td>0</td>\n",
       "      <td>276</td>\n",
       "      <td>427</td>\n",
       "      <td>V42</td>\n",
       "      <td>5</td>\n",
       "      <td>None</td>\n",
       "      <td>&gt;7</td>\n",
       "      <td>No</td>\n",
       "      <td>No</td>\n",
       "      <td>No</td>\n",
       "      <td>No</td>\n",
       "      <td>No</td>\n",
       "      <td>No</td>\n",
       "      <td>No</td>\n",
       "      <td>No</td>\n",
       "      <td>No</td>\n",
       "      <td>No</td>\n",
       "      <td>No</td>\n",
       "      <td>No</td>\n",
       "      <td>No</td>\n",
       "      <td>No</td>\n",
       "      <td>No</td>\n",
       "      <td>No</td>\n",
       "      <td>No</td>\n",
       "      <td>Steady</td>\n",
       "      <td>No</td>\n",
       "      <td>No</td>\n",
       "      <td>No</td>\n",
       "      <td>No</td>\n",
       "      <td>No</td>\n",
       "      <td>No</td>\n",
       "      <td>Yes</td>\n",
       "      <td>NO</td>\n",
       "    </tr>\n",
       "    <tr>\n",
       "      <th>47548</th>\n",
       "      <td>Hispanic</td>\n",
       "      <td>Male</td>\n",
       "      <td>45</td>\n",
       "      <td>Newborn</td>\n",
       "      <td>1</td>\n",
       "      <td>7</td>\n",
       "      <td>6</td>\n",
       "      <td>39</td>\n",
       "      <td>4</td>\n",
       "      <td>7</td>\n",
       "      <td>0</td>\n",
       "      <td>0</td>\n",
       "      <td>0</td>\n",
       "      <td>870</td>\n",
       "      <td>873</td>\n",
       "      <td>873</td>\n",
       "      <td>7</td>\n",
       "      <td>None</td>\n",
       "      <td>None</td>\n",
       "      <td>No</td>\n",
       "      <td>No</td>\n",
       "      <td>No</td>\n",
       "      <td>No</td>\n",
       "      <td>No</td>\n",
       "      <td>No</td>\n",
       "      <td>No</td>\n",
       "      <td>No</td>\n",
       "      <td>No</td>\n",
       "      <td>No</td>\n",
       "      <td>No</td>\n",
       "      <td>No</td>\n",
       "      <td>No</td>\n",
       "      <td>No</td>\n",
       "      <td>No</td>\n",
       "      <td>No</td>\n",
       "      <td>No</td>\n",
       "      <td>No</td>\n",
       "      <td>No</td>\n",
       "      <td>No</td>\n",
       "      <td>No</td>\n",
       "      <td>No</td>\n",
       "      <td>No</td>\n",
       "      <td>No</td>\n",
       "      <td>No</td>\n",
       "      <td>NO</td>\n",
       "    </tr>\n",
       "    <tr>\n",
       "      <th>48711</th>\n",
       "      <td>Caucasian</td>\n",
       "      <td>Female</td>\n",
       "      <td>75</td>\n",
       "      <td>Newborn</td>\n",
       "      <td>6</td>\n",
       "      <td>1</td>\n",
       "      <td>4</td>\n",
       "      <td>37</td>\n",
       "      <td>1</td>\n",
       "      <td>18</td>\n",
       "      <td>3</td>\n",
       "      <td>0</td>\n",
       "      <td>0</td>\n",
       "      <td>715</td>\n",
       "      <td>272</td>\n",
       "      <td>401</td>\n",
       "      <td>9</td>\n",
       "      <td>None</td>\n",
       "      <td>None</td>\n",
       "      <td>No</td>\n",
       "      <td>No</td>\n",
       "      <td>No</td>\n",
       "      <td>No</td>\n",
       "      <td>Steady</td>\n",
       "      <td>No</td>\n",
       "      <td>No</td>\n",
       "      <td>No</td>\n",
       "      <td>No</td>\n",
       "      <td>Steady</td>\n",
       "      <td>No</td>\n",
       "      <td>No</td>\n",
       "      <td>No</td>\n",
       "      <td>No</td>\n",
       "      <td>No</td>\n",
       "      <td>No</td>\n",
       "      <td>No</td>\n",
       "      <td>No</td>\n",
       "      <td>No</td>\n",
       "      <td>No</td>\n",
       "      <td>No</td>\n",
       "      <td>No</td>\n",
       "      <td>No</td>\n",
       "      <td>Ch</td>\n",
       "      <td>Yes</td>\n",
       "      <td>&gt;30</td>\n",
       "    </tr>\n",
       "    <tr>\n",
       "      <th>80354</th>\n",
       "      <td>Hispanic</td>\n",
       "      <td>Female</td>\n",
       "      <td>5</td>\n",
       "      <td>Newborn</td>\n",
       "      <td>1</td>\n",
       "      <td>1</td>\n",
       "      <td>2</td>\n",
       "      <td>27</td>\n",
       "      <td>0</td>\n",
       "      <td>2</td>\n",
       "      <td>0</td>\n",
       "      <td>0</td>\n",
       "      <td>0</td>\n",
       "      <td>786</td>\n",
       "      <td>782</td>\n",
       "      <td>E941</td>\n",
       "      <td>6</td>\n",
       "      <td>None</td>\n",
       "      <td>None</td>\n",
       "      <td>No</td>\n",
       "      <td>No</td>\n",
       "      <td>No</td>\n",
       "      <td>No</td>\n",
       "      <td>No</td>\n",
       "      <td>No</td>\n",
       "      <td>No</td>\n",
       "      <td>No</td>\n",
       "      <td>No</td>\n",
       "      <td>No</td>\n",
       "      <td>No</td>\n",
       "      <td>No</td>\n",
       "      <td>No</td>\n",
       "      <td>No</td>\n",
       "      <td>No</td>\n",
       "      <td>No</td>\n",
       "      <td>No</td>\n",
       "      <td>No</td>\n",
       "      <td>No</td>\n",
       "      <td>No</td>\n",
       "      <td>No</td>\n",
       "      <td>No</td>\n",
       "      <td>No</td>\n",
       "      <td>No</td>\n",
       "      <td>No</td>\n",
       "      <td>NO</td>\n",
       "    </tr>\n",
       "    <tr>\n",
       "      <th>87714</th>\n",
       "      <td>Caucasian</td>\n",
       "      <td>Male</td>\n",
       "      <td>65</td>\n",
       "      <td>Newborn</td>\n",
       "      <td>1</td>\n",
       "      <td>4</td>\n",
       "      <td>3</td>\n",
       "      <td>28</td>\n",
       "      <td>0</td>\n",
       "      <td>15</td>\n",
       "      <td>0</td>\n",
       "      <td>0</td>\n",
       "      <td>1</td>\n",
       "      <td>435</td>\n",
       "      <td>250</td>\n",
       "      <td>401</td>\n",
       "      <td>9</td>\n",
       "      <td>None</td>\n",
       "      <td>None</td>\n",
       "      <td>No</td>\n",
       "      <td>No</td>\n",
       "      <td>No</td>\n",
       "      <td>No</td>\n",
       "      <td>No</td>\n",
       "      <td>No</td>\n",
       "      <td>No</td>\n",
       "      <td>No</td>\n",
       "      <td>No</td>\n",
       "      <td>No</td>\n",
       "      <td>No</td>\n",
       "      <td>No</td>\n",
       "      <td>No</td>\n",
       "      <td>No</td>\n",
       "      <td>No</td>\n",
       "      <td>No</td>\n",
       "      <td>No</td>\n",
       "      <td>Steady</td>\n",
       "      <td>Steady</td>\n",
       "      <td>No</td>\n",
       "      <td>No</td>\n",
       "      <td>No</td>\n",
       "      <td>No</td>\n",
       "      <td>Ch</td>\n",
       "      <td>Yes</td>\n",
       "      <td>NO</td>\n",
       "    </tr>\n",
       "    <tr>\n",
       "      <th>100721</th>\n",
       "      <td>Asian</td>\n",
       "      <td>Male</td>\n",
       "      <td>85</td>\n",
       "      <td>Newborn</td>\n",
       "      <td>6</td>\n",
       "      <td>7</td>\n",
       "      <td>3</td>\n",
       "      <td>51</td>\n",
       "      <td>0</td>\n",
       "      <td>10</td>\n",
       "      <td>0</td>\n",
       "      <td>0</td>\n",
       "      <td>0</td>\n",
       "      <td>491</td>\n",
       "      <td>276</td>\n",
       "      <td>250.8</td>\n",
       "      <td>5</td>\n",
       "      <td>None</td>\n",
       "      <td>&gt;7</td>\n",
       "      <td>Steady</td>\n",
       "      <td>No</td>\n",
       "      <td>No</td>\n",
       "      <td>No</td>\n",
       "      <td>No</td>\n",
       "      <td>No</td>\n",
       "      <td>No</td>\n",
       "      <td>No</td>\n",
       "      <td>No</td>\n",
       "      <td>No</td>\n",
       "      <td>No</td>\n",
       "      <td>No</td>\n",
       "      <td>No</td>\n",
       "      <td>No</td>\n",
       "      <td>No</td>\n",
       "      <td>No</td>\n",
       "      <td>No</td>\n",
       "      <td>No</td>\n",
       "      <td>No</td>\n",
       "      <td>No</td>\n",
       "      <td>No</td>\n",
       "      <td>No</td>\n",
       "      <td>No</td>\n",
       "      <td>No</td>\n",
       "      <td>Yes</td>\n",
       "      <td>NO</td>\n",
       "    </tr>\n",
       "  </tbody>\n",
       "</table>\n",
       "</div>"
      ],
      "text/plain": [
       "                   race  gender  age admission_type_id  \\\n",
       "2043          Caucasian    Male   55           Newborn   \n",
       "2203          Caucasian    Male   85           Newborn   \n",
       "2461    AfricanAmerican    Male   75           Newborn   \n",
       "4823          Caucasian  Female   65           Newborn   \n",
       "35877   AfricanAmerican    Male   65           Newborn   \n",
       "47548          Hispanic    Male   45           Newborn   \n",
       "48711         Caucasian  Female   75           Newborn   \n",
       "80354          Hispanic  Female    5           Newborn   \n",
       "87714         Caucasian    Male   65           Newborn   \n",
       "100721            Asian    Male   85           Newborn   \n",
       "\n",
       "        discharge_disposition_id  admission_source_id  time_in_hospital  \\\n",
       "2043                           1                    4                 2   \n",
       "2203                           1                    4                 2   \n",
       "2461                           6                    4                 5   \n",
       "4823                           6                    4                 2   \n",
       "35877                          1                   14                 3   \n",
       "47548                          1                    7                 6   \n",
       "48711                          6                    1                 4   \n",
       "80354                          1                    1                 2   \n",
       "87714                          1                    4                 3   \n",
       "100721                         6                    7                 3   \n",
       "\n",
       "        num_lab_procedures  num_procedures  num_medications  \\\n",
       "2043                    56               2               13   \n",
       "2203                    46               6               14   \n",
       "2461                    73               1               12   \n",
       "4823                    39               0                7   \n",
       "35877                   66               0               18   \n",
       "47548                   39               4                7   \n",
       "48711                   37               1               18   \n",
       "80354                   27               0                2   \n",
       "87714                   28               0               15   \n",
       "100721                  51               0               10   \n",
       "\n",
       "        number_outpatient  number_emergency  number_inpatient  diag_1 diag_2  \\\n",
       "2043                    0                 0                 0     414    411   \n",
       "2203                    0                 0                 0     414    411   \n",
       "2461                    0                 0                 0     562    428   \n",
       "4823                    0                 0                 0  250.82    707   \n",
       "35877                   0                 0                 0     276    427   \n",
       "47548                   0                 0                 0     870    873   \n",
       "48711                   3                 0                 0     715    272   \n",
       "80354                   0                 0                 0     786    782   \n",
       "87714                   0                 0                 1     435    250   \n",
       "100721                  0                 0                 0     491    276   \n",
       "\n",
       "        diag_3  number_diagnoses max_glu_serum A1Cresult metformin  \\\n",
       "2043       401                 5          None      None        No   \n",
       "2203       401                 6          None      None        No   \n",
       "2461    250.52                 9          None      None        No   \n",
       "4823       401                 9          None      None        No   \n",
       "35877      V42                 5          None        >7        No   \n",
       "47548      873                 7          None      None        No   \n",
       "48711      401                 9          None      None        No   \n",
       "80354     E941                 6          None      None        No   \n",
       "87714      401                 9          None      None        No   \n",
       "100721   250.8                 5          None        >7    Steady   \n",
       "\n",
       "       repaglinide nateglinide chlorpropamide glimepiride acetohexamide  \\\n",
       "2043            No          No             No          No            No   \n",
       "2203            No          No             No          No            No   \n",
       "2461            No          No             No          No            No   \n",
       "4823            No          No             No          No            No   \n",
       "35877           No          No             No          No            No   \n",
       "47548           No          No             No          No            No   \n",
       "48711           No          No             No      Steady            No   \n",
       "80354           No          No             No          No            No   \n",
       "87714           No          No             No          No            No   \n",
       "100721          No          No             No          No            No   \n",
       "\n",
       "       glipizide glyburide tolbutamide pioglitazone rosiglitazone acarbose  \\\n",
       "2043          No        No          No           No            No       No   \n",
       "2203          No        No          No           No            No       No   \n",
       "2461          No        No          No           No            No       No   \n",
       "4823          No        No          No           No            No       No   \n",
       "35877         No        No          No           No            No       No   \n",
       "47548         No        No          No           No            No       No   \n",
       "48711         No        No          No       Steady            No       No   \n",
       "80354         No        No          No           No            No       No   \n",
       "87714         No        No          No           No            No       No   \n",
       "100721        No        No          No           No            No       No   \n",
       "\n",
       "       miglitol troglitazone tolazamide examide citoglipton insulin  \\\n",
       "2043         No           No         No      No          No  Steady   \n",
       "2203         No           No         No      No          No  Steady   \n",
       "2461         No           No         No      No          No      Up   \n",
       "4823         No           No         No      No          No  Steady   \n",
       "35877        No           No         No      No          No  Steady   \n",
       "47548        No           No         No      No          No      No   \n",
       "48711        No           No         No      No          No      No   \n",
       "80354        No           No         No      No          No      No   \n",
       "87714        No           No         No      No          No  Steady   \n",
       "100721       No           No         No      No          No      No   \n",
       "\n",
       "       glyburide-metformin glipizide-metformin glimepiride-pioglitazone  \\\n",
       "2043                    No                  No                       No   \n",
       "2203                    No                  No                       No   \n",
       "2461                    No                  No                       No   \n",
       "4823                    No                  No                       No   \n",
       "35877                   No                  No                       No   \n",
       "47548                   No                  No                       No   \n",
       "48711                   No                  No                       No   \n",
       "80354                   No                  No                       No   \n",
       "87714               Steady                  No                       No   \n",
       "100721                  No                  No                       No   \n",
       "\n",
       "       metformin-rosiglitazone metformin-pioglitazone change diabetesMed  \\\n",
       "2043                        No                     No     No         Yes   \n",
       "2203                        No                     No     No         Yes   \n",
       "2461                        No                     No     Ch         Yes   \n",
       "4823                        No                     No     No         Yes   \n",
       "35877                       No                     No     No         Yes   \n",
       "47548                       No                     No     No          No   \n",
       "48711                       No                     No     Ch         Yes   \n",
       "80354                       No                     No     No          No   \n",
       "87714                       No                     No     Ch         Yes   \n",
       "100721                      No                     No     No         Yes   \n",
       "\n",
       "       readmitted  \n",
       "2043           NO  \n",
       "2203          >30  \n",
       "2461           NO  \n",
       "4823          <30  \n",
       "35877          NO  \n",
       "47548          NO  \n",
       "48711         >30  \n",
       "80354          NO  \n",
       "87714          NO  \n",
       "100721         NO  "
      ]
     },
     "execution_count": 41,
     "metadata": {},
     "output_type": "execute_result"
    }
   ],
   "source": [
    "df[df.loc[:,'admission_type_id']=='Newborn']"
   ]
  },
  {
   "cell_type": "code",
   "execution_count": 42,
   "id": "e3e083d8",
   "metadata": {},
   "outputs": [],
   "source": [
    "df.drop(df.index[df['admission_type_id']=='Newborn'],inplace=True)\n"
   ]
  },
  {
   "cell_type": "code",
   "execution_count": 43,
   "id": "dc682dec",
   "metadata": {},
   "outputs": [
    {
     "data": {
      "text/plain": [
       "Emergency        72491\n",
       "Elective         18869\n",
       "Not Available    10396\n",
       "Name: admission_type_id, dtype: int64"
      ]
     },
     "execution_count": 43,
     "metadata": {},
     "output_type": "execute_result"
    }
   ],
   "source": [
    "df['admission_type_id'].value_counts()"
   ]
  },
  {
   "cell_type": "markdown",
   "id": "72e80620",
   "metadata": {},
   "source": [
    "7.discharge_disposition_id"
   ]
  },
  {
   "cell_type": "code",
   "execution_count": 44,
   "id": "9e6ae404",
   "metadata": {},
   "outputs": [
    {
     "data": {
      "text/plain": [
       "1     60228\n",
       "3     13954\n",
       "6     12898\n",
       "18     3691\n",
       "2      2128\n",
       "22     1993\n",
       "11     1642\n",
       "5      1184\n",
       "25      989\n",
       "4       815\n",
       "7       623\n",
       "23      412\n",
       "13      399\n",
       "14      372\n",
       "28      139\n",
       "8       108\n",
       "15       63\n",
       "24       48\n",
       "9        21\n",
       "17       14\n",
       "16       11\n",
       "19        8\n",
       "10        6\n",
       "27        5\n",
       "12        3\n",
       "20        2\n",
       "Name: discharge_disposition_id, dtype: int64"
      ]
     },
     "execution_count": 44,
     "metadata": {},
     "output_type": "execute_result"
    }
   ],
   "source": [
    "df['discharge_disposition_id'].value_counts()"
   ]
  },
  {
   "cell_type": "code",
   "execution_count": 45,
   "id": "c5b440a9",
   "metadata": {},
   "outputs": [
    {
     "data": {
      "text/plain": [
       "array([25,  1,  3,  6,  2,  5, 11,  7, 10,  4, 14, 18,  8, 13, 12, 16, 17,\n",
       "       22, 23,  9, 20, 15, 24, 28, 19, 27], dtype=int64)"
      ]
     },
     "execution_count": 45,
     "metadata": {},
     "output_type": "execute_result"
    }
   ],
   "source": [
    "df['discharge_disposition_id'].unique()"
   ]
  },
  {
   "cell_type": "code",
   "execution_count": 46,
   "id": "30b41919",
   "metadata": {},
   "outputs": [],
   "source": [
    "ID_map=pd.read_csv(r'C:\\Users\\FREYA RACHEL\\OneDrive\\Desktop\\archive\\IDs_mapping.csv')"
   ]
  },
  {
   "cell_type": "code",
   "execution_count": 47,
   "id": "58ace8a8",
   "metadata": {},
   "outputs": [],
   "source": [
    "df['discharge_disposition_id']=df['discharge_disposition_id'].replace({1:'Discharged to home',\n",
    "                                                                      6:'Discharged to home',\n",
    "                                                                      8:'Discharged to home',\n",
    "                                                                      2:'Transferred to another facility',\n",
    "                                                                      3:'Transferred to another facility',\n",
    "                                                                      4:'Transferred to another facility',\n",
    "                                                                      5:'Transferred to another facility',\n",
    "                                                                      16:'Transferred to another facility',\n",
    "                                                                      22:'Transferred to another facility',\n",
    "                                                                      23:'Transferred to another facility',\n",
    "                                                                      24:'Transferred to another facility',\n",
    "                                                                      27:'Transferred to another facility',\n",
    "                                                                      28:'Transferred to another facility',\n",
    "                                                                      29:'Transferred to another facility',\n",
    "                                                                      30:'Transferred to another facility',\n",
    "                                                                      7:'Left AMA',\n",
    "                                                                      9:'Still patient/referred to this institution',\n",
    "                                                                     12:'Still patient/referred to this institution',\n",
    "                                                                     15:'Still patient/referred to this institution',\n",
    "                                                                     17:'Still patient/referred to this institution', \n",
    "                                                                     10:'Neonate discharged',\n",
    "                                                                     11:'Expired',\n",
    "                                                                     19:'Expired',\n",
    "                                                                     20:'Expired',\n",
    "                                                                     21:'Expired',\n",
    "                                                                     13:'Hospice',\n",
    "                                                                     14:'Hospice',\n",
    "                                                                     18:'Not Available',\n",
    "                                                                     25:'Not Available',\n",
    "                                                                     26:'Not Available',\n",
    "                                                                     \n",
    "    \n",
    "                                                                      })"
   ]
  },
  {
   "cell_type": "code",
   "execution_count": 48,
   "id": "982e8747",
   "metadata": {},
   "outputs": [
    {
     "data": {
      "text/plain": [
       "Discharged to home                            73234\n",
       "Transferred to another facility               20689\n",
       "Not Available                                  4680\n",
       "Expired                                        1652\n",
       "Hospice                                         771\n",
       "Left AMA                                        623\n",
       "Still patient/referred to this institution      101\n",
       "Neonate discharged                                6\n",
       "Name: discharge_disposition_id, dtype: int64"
      ]
     },
     "execution_count": 48,
     "metadata": {},
     "output_type": "execute_result"
    }
   ],
   "source": [
    "df['discharge_disposition_id'].value_counts()"
   ]
  },
  {
   "cell_type": "markdown",
   "id": "5279721e",
   "metadata": {},
   "source": [
    "Expired patients and new born children should be removed as they wont be readmitted"
   ]
  },
  {
   "cell_type": "code",
   "execution_count": 49,
   "id": "fb39c1d4",
   "metadata": {},
   "outputs": [],
   "source": [
    "df=df[df['discharge_disposition_id']!='Expired']\n",
    "df=df[df['discharge_disposition_id']!='Neonate discharged']\n",
    "df=df[df['discharge_disposition_id']!='Hospice']\n"
   ]
  },
  {
   "cell_type": "code",
   "execution_count": 50,
   "id": "9851328a",
   "metadata": {},
   "outputs": [
    {
     "data": {
      "text/plain": [
       "Discharged to home                            73234\n",
       "Transferred to another facility               20689\n",
       "Not Available                                  4680\n",
       "Left AMA                                        623\n",
       "Still patient/referred to this institution      101\n",
       "Name: discharge_disposition_id, dtype: int64"
      ]
     },
     "execution_count": 50,
     "metadata": {},
     "output_type": "execute_result"
    }
   ],
   "source": [
    "df['discharge_disposition_id'].value_counts()\n"
   ]
  },
  {
   "cell_type": "code",
   "execution_count": 51,
   "id": "1aafec25",
   "metadata": {},
   "outputs": [
    {
     "data": {
      "text/plain": [
       "Index(['race', 'gender', 'age', 'admission_type_id',\n",
       "       'discharge_disposition_id', 'admission_source_id', 'time_in_hospital',\n",
       "       'num_lab_procedures', 'num_procedures', 'num_medications',\n",
       "       'number_outpatient', 'number_emergency', 'number_inpatient', 'diag_1',\n",
       "       'diag_2', 'diag_3', 'number_diagnoses', 'max_glu_serum', 'A1Cresult',\n",
       "       'metformin', 'repaglinide', 'nateglinide', 'chlorpropamide',\n",
       "       'glimepiride', 'acetohexamide', 'glipizide', 'glyburide', 'tolbutamide',\n",
       "       'pioglitazone', 'rosiglitazone', 'acarbose', 'miglitol', 'troglitazone',\n",
       "       'tolazamide', 'examide', 'citoglipton', 'insulin',\n",
       "       'glyburide-metformin', 'glipizide-metformin',\n",
       "       'glimepiride-pioglitazone', 'metformin-rosiglitazone',\n",
       "       'metformin-pioglitazone', 'change', 'diabetesMed', 'readmitted'],\n",
       "      dtype='object')"
      ]
     },
     "execution_count": 51,
     "metadata": {},
     "output_type": "execute_result"
    }
   ],
   "source": [
    "df.columns"
   ]
  },
  {
   "cell_type": "markdown",
   "id": "61b6a735",
   "metadata": {},
   "source": [
    "8.admission _source_id"
   ]
  },
  {
   "cell_type": "code",
   "execution_count": 53,
   "id": "67c62780",
   "metadata": {},
   "outputs": [
    {
     "data": {
      "text/plain": [
       "7     55845\n",
       "1     29163\n",
       "17     6570\n",
       "4      3113\n",
       "6      2239\n",
       "2      1081\n",
       "5       806\n",
       "3       185\n",
       "20      159\n",
       "9       125\n",
       "8        15\n",
       "22       12\n",
       "10        8\n",
       "11        2\n",
       "25        2\n",
       "14        1\n",
       "13        1\n",
       "Name: admission_source_id, dtype: int64"
      ]
     },
     "execution_count": 53,
     "metadata": {},
     "output_type": "execute_result"
    }
   ],
   "source": [
    "df['admission_source_id'].value_counts()"
   ]
  },
  {
   "cell_type": "code",
   "execution_count": 54,
   "id": "32a6906e",
   "metadata": {},
   "outputs": [
    {
     "data": {
      "text/plain": [
       "17"
      ]
     },
     "execution_count": 54,
     "metadata": {},
     "output_type": "execute_result"
    }
   ],
   "source": [
    "df['admission_source_id'].nunique()"
   ]
  },
  {
   "cell_type": "code",
   "execution_count": 55,
   "id": "9d43fb47",
   "metadata": {},
   "outputs": [],
   "source": [
    "df['admission_source_id']=df['admission_source_id'].replace({1:'Referral',\n",
    "                                                            2:'Referral',\n",
    "                                                            3:'Referral',\n",
    "                                                            4:'Transferred from hospital',\n",
    "                                                            5:'Transferred from hospital',\n",
    "                                                            6:'Transferred from hospital',\n",
    "                                                            10:'Transferred from hospital',\n",
    "                                                            18:'Transferred from hospital',\n",
    "                                                             19:'Transferred from hospital',\n",
    "                                                             25:'Transferred from hospital',\n",
    "                                                             26:'Transferred from hospital',\n",
    "                                                             22:'Transferred from hospital',\n",
    "                                                             8:'Emergency',7:'Emergency',\n",
    "                                                             9:'Not Available', 15:'Not Available',17:'Not Available',20:'Not Available',21:'Not Available',\n",
    "                                                             11:'Delivery',12:'Delivery',13:'Delivery',14:'Delivery',23:'Delivery',24:'Delivery'\n",
    "                                                            })"
   ]
  },
  {
   "cell_type": "code",
   "execution_count": 56,
   "id": "d0b55bfe",
   "metadata": {},
   "outputs": [
    {
     "data": {
      "text/plain": [
       "Emergency                    55860\n",
       "Referral                     30429\n",
       "Not Available                 6854\n",
       "Transferred from hospital     6180\n",
       "Delivery                         4\n",
       "Name: admission_source_id, dtype: int64"
      ]
     },
     "execution_count": 56,
     "metadata": {},
     "output_type": "execute_result"
    }
   ],
   "source": [
    "df['admission_source_id'].value_counts()"
   ]
  },
  {
   "cell_type": "markdown",
   "id": "8a07bac7",
   "metadata": {},
   "source": [
    "dropping delivery "
   ]
  },
  {
   "cell_type": "code",
   "execution_count": 57,
   "id": "19213ad5",
   "metadata": {},
   "outputs": [],
   "source": [
    "df=df[df['admission_source_id']!='Delivery']"
   ]
  },
  {
   "cell_type": "code",
   "execution_count": 58,
   "id": "2696dd25",
   "metadata": {},
   "outputs": [
    {
     "data": {
      "text/plain": [
       "Emergency                    55860\n",
       "Referral                     30429\n",
       "Not Available                 6854\n",
       "Transferred from hospital     6180\n",
       "Name: admission_source_id, dtype: int64"
      ]
     },
     "execution_count": 58,
     "metadata": {},
     "output_type": "execute_result"
    }
   ],
   "source": [
    "df['admission_source_id'].value_counts()"
   ]
  },
  {
   "cell_type": "code",
   "execution_count": 59,
   "id": "2d5f5e65",
   "metadata": {},
   "outputs": [
    {
     "data": {
      "text/plain": [
       "1     13824\n",
       "3     17425\n",
       "2     16886\n",
       "4     13682\n",
       "5      9747\n",
       "13     1152\n",
       "12     1383\n",
       "9      2878\n",
       "7      5696\n",
       "10     2262\n",
       "6      7354\n",
       "11     1770\n",
       "8      4269\n",
       "14      995\n",
       "Name: time_in_hospital, dtype: int64"
      ]
     },
     "execution_count": 59,
     "metadata": {},
     "output_type": "execute_result"
    }
   ],
   "source": [
    "df['time_in_hospital'].value_counts(sort=False)"
   ]
  },
  {
   "cell_type": "markdown",
   "id": "a5c0f687",
   "metadata": {},
   "source": [
    "Time ranges from 1-14 days"
   ]
  },
  {
   "cell_type": "code",
   "execution_count": 60,
   "id": "8ae53993",
   "metadata": {},
   "outputs": [
    {
     "data": {
      "text/plain": [
       "array([ 41,  59,  11,  44,  51,  31,  70,  73,  68,  33,  47,  62,  60,\n",
       "        55,  49,  75,  45,  29,  35,  42,  66,  36,  19,  64,  25,  53,\n",
       "        52,  87,  27,  37,  28,  48,  10,   2,  65,  67,  40,  54,  58,\n",
       "        57,  43,  32,  83,  34,  39,  69,  38,  72,  22,  96,  46,  78,\n",
       "        56,  61,  88,  50,   1,  18,  82,   9,  63,  24,  71,  77,  81,\n",
       "        76,  90,  93,   3, 103,  13,  80,  85,  16,  15,  12,  30,  23,\n",
       "        17,  21,  79,  26,   5,  95,  97,  84,  14,  74, 105,  86,  98,\n",
       "        20,   6,  94,   8, 102,   7,  89,  91,  92,   4, 101,  99, 100,\n",
       "       114, 113, 111, 129, 107, 108, 106, 104, 109, 120, 132, 121, 126,\n",
       "       118], dtype=int64)"
      ]
     },
     "execution_count": 60,
     "metadata": {},
     "output_type": "execute_result"
    }
   ],
   "source": [
    "df['num_lab_procedures'].unique()"
   ]
  },
  {
   "cell_type": "code",
   "execution_count": 61,
   "id": "b8c74cf2",
   "metadata": {},
   "outputs": [
    {
     "name": "stdout",
     "output_type": "stream",
     "text": [
      "The number of lab tests a patient has undergone can range from 1 to 132\n"
     ]
    }
   ],
   "source": [
    "\n",
    "print('The number of lab tests a patient has undergone can range from',df.num_lab_procedures.min(),'to',df.num_lab_procedures.max())"
   ]
  },
  {
   "cell_type": "markdown",
   "id": "f326b370",
   "metadata": {},
   "source": [
    "11.num_procedures:"
   ]
  },
  {
   "cell_type": "code",
   "execution_count": 62,
   "id": "21f5f85b",
   "metadata": {},
   "outputs": [
    {
     "data": {
      "text/plain": [
       "0    45672\n",
       "1    20247\n",
       "2    12367\n",
       "3     9202\n",
       "6     4799\n",
       "4     4048\n",
       "5     2988\n",
       "Name: num_procedures, dtype: int64"
      ]
     },
     "execution_count": 62,
     "metadata": {},
     "output_type": "execute_result"
    }
   ],
   "source": [
    "df.num_procedures.value_counts()"
   ]
  },
  {
   "cell_type": "markdown",
   "id": "72d6f0ac",
   "metadata": {},
   "source": [
    "range from  1-5"
   ]
  },
  {
   "cell_type": "code",
   "execution_count": 63,
   "id": "1ee54b33",
   "metadata": {},
   "outputs": [
    {
     "name": "stdout",
     "output_type": "stream",
     "text": [
      "The number of medications range from a minimum of 1 to maximum of 81\n"
     ]
    }
   ],
   "source": [
    "print('The number of medications range from a minimum of',df.num_medications.min(),'to maximum of',df.num_medications.max())"
   ]
  },
  {
   "cell_type": "code",
   "execution_count": 64,
   "id": "a76f25c1",
   "metadata": {},
   "outputs": [
    {
     "data": {
      "text/plain": [
       "0     82976\n",
       "1      8348\n",
       "2      3509\n",
       "3      1996\n",
       "4      1077\n",
       "5       514\n",
       "6       294\n",
       "7       154\n",
       "8        96\n",
       "9        82\n",
       "10       57\n",
       "11       41\n",
       "13       30\n",
       "12       29\n",
       "14       28\n",
       "15       20\n",
       "16       13\n",
       "17        8\n",
       "21        6\n",
       "20        6\n",
       "18        5\n",
       "22        5\n",
       "19        3\n",
       "27        3\n",
       "24        3\n",
       "26        2\n",
       "23        2\n",
       "33        2\n",
       "35        2\n",
       "36        2\n",
       "29        2\n",
       "39        1\n",
       "34        1\n",
       "42        1\n",
       "25        1\n",
       "28        1\n",
       "37        1\n",
       "38        1\n",
       "40        1\n",
       "Name: number_outpatient, dtype: int64"
      ]
     },
     "execution_count": 64,
     "metadata": {},
     "output_type": "execute_result"
    }
   ],
   "source": [
    "df['number_outpatient'].value_counts()"
   ]
  },
  {
   "cell_type": "code",
   "execution_count": 65,
   "id": "24e43ab9",
   "metadata": {},
   "outputs": [
    {
     "data": {
      "text/plain": [
       "0     88229\n",
       "1      7474\n",
       "2      1984\n",
       "3       706\n",
       "4       369\n",
       "5       190\n",
       "6        93\n",
       "7        72\n",
       "8        50\n",
       "10       34\n",
       "9        33\n",
       "11       23\n",
       "13       12\n",
       "12       10\n",
       "22        6\n",
       "16        5\n",
       "18        5\n",
       "19        4\n",
       "20        4\n",
       "15        3\n",
       "14        3\n",
       "25        2\n",
       "21        2\n",
       "28        1\n",
       "42        1\n",
       "46        1\n",
       "76        1\n",
       "37        1\n",
       "64        1\n",
       "63        1\n",
       "54        1\n",
       "24        1\n",
       "29        1\n",
       "Name: number_emergency, dtype: int64"
      ]
     },
     "execution_count": 65,
     "metadata": {},
     "output_type": "execute_result"
    }
   ],
   "source": [
    " df['number_emergency'].value_counts()"
   ]
  },
  {
   "cell_type": "code",
   "execution_count": 66,
   "id": "6268c554",
   "metadata": {},
   "outputs": [
    {
     "data": {
      "text/plain": [
       "0     66230\n",
       "1     18980\n",
       "2      7299\n",
       "3      3271\n",
       "4      1574\n",
       "5       791\n",
       "6       474\n",
       "7       262\n",
       "8       145\n",
       "9       109\n",
       "10       59\n",
       "11       49\n",
       "12       32\n",
       "13       18\n",
       "14       10\n",
       "15        9\n",
       "16        6\n",
       "19        2\n",
       "17        1\n",
       "21        1\n",
       "18        1\n",
       "Name: number_inpatient, dtype: int64"
      ]
     },
     "execution_count": 66,
     "metadata": {},
     "output_type": "execute_result"
    }
   ],
   "source": [
    "df['number_inpatient'].value_counts()"
   ]
  },
  {
   "cell_type": "code",
   "execution_count": 67,
   "id": "f3f32977",
   "metadata": {},
   "outputs": [],
   "source": [
    "df['service_utilization']=df['number_outpatient']+df['number_emergency']+df['number_inpatient'] #year_visits"
   ]
  },
  {
   "cell_type": "code",
   "execution_count": 68,
   "id": "1b522d37",
   "metadata": {},
   "outputs": [],
   "source": [
    "df.drop(['number_outpatient','number_emergency','number_inpatient'],axis=1,inplace=True)"
   ]
  },
  {
   "cell_type": "code",
   "execution_count": 69,
   "id": "0c9a4907",
   "metadata": {},
   "outputs": [
    {
     "data": {
      "text/plain": [
       "Index(['race', 'gender', 'age', 'admission_type_id',\n",
       "       'discharge_disposition_id', 'admission_source_id', 'time_in_hospital',\n",
       "       'num_lab_procedures', 'num_procedures', 'num_medications', 'diag_1',\n",
       "       'diag_2', 'diag_3', 'number_diagnoses', 'max_glu_serum', 'A1Cresult',\n",
       "       'metformin', 'repaglinide', 'nateglinide', 'chlorpropamide',\n",
       "       'glimepiride', 'acetohexamide', 'glipizide', 'glyburide', 'tolbutamide',\n",
       "       'pioglitazone', 'rosiglitazone', 'acarbose', 'miglitol', 'troglitazone',\n",
       "       'tolazamide', 'examide', 'citoglipton', 'insulin',\n",
       "       'glyburide-metformin', 'glipizide-metformin',\n",
       "       'glimepiride-pioglitazone', 'metformin-rosiglitazone',\n",
       "       'metformin-pioglitazone', 'change', 'diabetesMed', 'readmitted',\n",
       "       'service_utilization'],\n",
       "      dtype='object')"
      ]
     },
     "execution_count": 69,
     "metadata": {},
     "output_type": "execute_result"
    }
   ],
   "source": [
    "df.columns"
   ]
  },
  {
   "cell_type": "code",
   "execution_count": 70,
   "id": "5853d927",
   "metadata": {},
   "outputs": [
    {
     "data": {
      "text/html": [
       "<div>\n",
       "<style scoped>\n",
       "    .dataframe tbody tr th:only-of-type {\n",
       "        vertical-align: middle;\n",
       "    }\n",
       "\n",
       "    .dataframe tbody tr th {\n",
       "        vertical-align: top;\n",
       "    }\n",
       "\n",
       "    .dataframe thead th {\n",
       "        text-align: right;\n",
       "    }\n",
       "</style>\n",
       "<table border=\"1\" class=\"dataframe\">\n",
       "  <thead>\n",
       "    <tr style=\"text-align: right;\">\n",
       "      <th></th>\n",
       "      <th>race</th>\n",
       "      <th>gender</th>\n",
       "      <th>age</th>\n",
       "      <th>admission_type_id</th>\n",
       "      <th>discharge_disposition_id</th>\n",
       "      <th>admission_source_id</th>\n",
       "      <th>time_in_hospital</th>\n",
       "      <th>num_lab_procedures</th>\n",
       "      <th>num_procedures</th>\n",
       "      <th>num_medications</th>\n",
       "      <th>diag_1</th>\n",
       "      <th>diag_2</th>\n",
       "      <th>diag_3</th>\n",
       "      <th>number_diagnoses</th>\n",
       "      <th>max_glu_serum</th>\n",
       "      <th>A1Cresult</th>\n",
       "      <th>metformin</th>\n",
       "      <th>repaglinide</th>\n",
       "      <th>nateglinide</th>\n",
       "      <th>chlorpropamide</th>\n",
       "      <th>glimepiride</th>\n",
       "      <th>acetohexamide</th>\n",
       "      <th>glipizide</th>\n",
       "      <th>glyburide</th>\n",
       "      <th>tolbutamide</th>\n",
       "      <th>pioglitazone</th>\n",
       "      <th>rosiglitazone</th>\n",
       "      <th>acarbose</th>\n",
       "      <th>miglitol</th>\n",
       "      <th>troglitazone</th>\n",
       "      <th>tolazamide</th>\n",
       "      <th>examide</th>\n",
       "      <th>citoglipton</th>\n",
       "      <th>insulin</th>\n",
       "      <th>glyburide-metformin</th>\n",
       "      <th>glipizide-metformin</th>\n",
       "      <th>glimepiride-pioglitazone</th>\n",
       "      <th>metformin-rosiglitazone</th>\n",
       "      <th>metformin-pioglitazone</th>\n",
       "      <th>change</th>\n",
       "      <th>diabetesMed</th>\n",
       "      <th>readmitted</th>\n",
       "      <th>service_utilization</th>\n",
       "    </tr>\n",
       "  </thead>\n",
       "  <tbody>\n",
       "    <tr>\n",
       "      <th>0</th>\n",
       "      <td>Caucasian</td>\n",
       "      <td>Female</td>\n",
       "      <td>5</td>\n",
       "      <td>Not Available</td>\n",
       "      <td>Not Available</td>\n",
       "      <td>Referral</td>\n",
       "      <td>1</td>\n",
       "      <td>41</td>\n",
       "      <td>0</td>\n",
       "      <td>1</td>\n",
       "      <td>250.83</td>\n",
       "      <td>?</td>\n",
       "      <td>?</td>\n",
       "      <td>1</td>\n",
       "      <td>None</td>\n",
       "      <td>None</td>\n",
       "      <td>No</td>\n",
       "      <td>No</td>\n",
       "      <td>No</td>\n",
       "      <td>No</td>\n",
       "      <td>No</td>\n",
       "      <td>No</td>\n",
       "      <td>No</td>\n",
       "      <td>No</td>\n",
       "      <td>No</td>\n",
       "      <td>No</td>\n",
       "      <td>No</td>\n",
       "      <td>No</td>\n",
       "      <td>No</td>\n",
       "      <td>No</td>\n",
       "      <td>No</td>\n",
       "      <td>No</td>\n",
       "      <td>No</td>\n",
       "      <td>No</td>\n",
       "      <td>No</td>\n",
       "      <td>No</td>\n",
       "      <td>No</td>\n",
       "      <td>No</td>\n",
       "      <td>No</td>\n",
       "      <td>No</td>\n",
       "      <td>No</td>\n",
       "      <td>NO</td>\n",
       "      <td>0</td>\n",
       "    </tr>\n",
       "    <tr>\n",
       "      <th>1</th>\n",
       "      <td>Caucasian</td>\n",
       "      <td>Female</td>\n",
       "      <td>15</td>\n",
       "      <td>Emergency</td>\n",
       "      <td>Discharged to home</td>\n",
       "      <td>Emergency</td>\n",
       "      <td>3</td>\n",
       "      <td>59</td>\n",
       "      <td>0</td>\n",
       "      <td>18</td>\n",
       "      <td>276</td>\n",
       "      <td>250.01</td>\n",
       "      <td>255</td>\n",
       "      <td>9</td>\n",
       "      <td>None</td>\n",
       "      <td>None</td>\n",
       "      <td>No</td>\n",
       "      <td>No</td>\n",
       "      <td>No</td>\n",
       "      <td>No</td>\n",
       "      <td>No</td>\n",
       "      <td>No</td>\n",
       "      <td>No</td>\n",
       "      <td>No</td>\n",
       "      <td>No</td>\n",
       "      <td>No</td>\n",
       "      <td>No</td>\n",
       "      <td>No</td>\n",
       "      <td>No</td>\n",
       "      <td>No</td>\n",
       "      <td>No</td>\n",
       "      <td>No</td>\n",
       "      <td>No</td>\n",
       "      <td>Up</td>\n",
       "      <td>No</td>\n",
       "      <td>No</td>\n",
       "      <td>No</td>\n",
       "      <td>No</td>\n",
       "      <td>No</td>\n",
       "      <td>Ch</td>\n",
       "      <td>Yes</td>\n",
       "      <td>&gt;30</td>\n",
       "      <td>0</td>\n",
       "    </tr>\n",
       "    <tr>\n",
       "      <th>2</th>\n",
       "      <td>AfricanAmerican</td>\n",
       "      <td>Female</td>\n",
       "      <td>125</td>\n",
       "      <td>Emergency</td>\n",
       "      <td>Discharged to home</td>\n",
       "      <td>Emergency</td>\n",
       "      <td>2</td>\n",
       "      <td>11</td>\n",
       "      <td>5</td>\n",
       "      <td>13</td>\n",
       "      <td>648</td>\n",
       "      <td>250</td>\n",
       "      <td>V27</td>\n",
       "      <td>6</td>\n",
       "      <td>None</td>\n",
       "      <td>None</td>\n",
       "      <td>No</td>\n",
       "      <td>No</td>\n",
       "      <td>No</td>\n",
       "      <td>No</td>\n",
       "      <td>No</td>\n",
       "      <td>No</td>\n",
       "      <td>Steady</td>\n",
       "      <td>No</td>\n",
       "      <td>No</td>\n",
       "      <td>No</td>\n",
       "      <td>No</td>\n",
       "      <td>No</td>\n",
       "      <td>No</td>\n",
       "      <td>No</td>\n",
       "      <td>No</td>\n",
       "      <td>No</td>\n",
       "      <td>No</td>\n",
       "      <td>No</td>\n",
       "      <td>No</td>\n",
       "      <td>No</td>\n",
       "      <td>No</td>\n",
       "      <td>No</td>\n",
       "      <td>No</td>\n",
       "      <td>No</td>\n",
       "      <td>Yes</td>\n",
       "      <td>NO</td>\n",
       "      <td>3</td>\n",
       "    </tr>\n",
       "    <tr>\n",
       "      <th>3</th>\n",
       "      <td>Caucasian</td>\n",
       "      <td>Male</td>\n",
       "      <td>35</td>\n",
       "      <td>Emergency</td>\n",
       "      <td>Discharged to home</td>\n",
       "      <td>Emergency</td>\n",
       "      <td>2</td>\n",
       "      <td>44</td>\n",
       "      <td>1</td>\n",
       "      <td>16</td>\n",
       "      <td>8</td>\n",
       "      <td>250.43</td>\n",
       "      <td>403</td>\n",
       "      <td>7</td>\n",
       "      <td>None</td>\n",
       "      <td>None</td>\n",
       "      <td>No</td>\n",
       "      <td>No</td>\n",
       "      <td>No</td>\n",
       "      <td>No</td>\n",
       "      <td>No</td>\n",
       "      <td>No</td>\n",
       "      <td>No</td>\n",
       "      <td>No</td>\n",
       "      <td>No</td>\n",
       "      <td>No</td>\n",
       "      <td>No</td>\n",
       "      <td>No</td>\n",
       "      <td>No</td>\n",
       "      <td>No</td>\n",
       "      <td>No</td>\n",
       "      <td>No</td>\n",
       "      <td>No</td>\n",
       "      <td>Up</td>\n",
       "      <td>No</td>\n",
       "      <td>No</td>\n",
       "      <td>No</td>\n",
       "      <td>No</td>\n",
       "      <td>No</td>\n",
       "      <td>Ch</td>\n",
       "      <td>Yes</td>\n",
       "      <td>NO</td>\n",
       "      <td>0</td>\n",
       "    </tr>\n",
       "    <tr>\n",
       "      <th>4</th>\n",
       "      <td>Caucasian</td>\n",
       "      <td>Male</td>\n",
       "      <td>45</td>\n",
       "      <td>Emergency</td>\n",
       "      <td>Discharged to home</td>\n",
       "      <td>Emergency</td>\n",
       "      <td>1</td>\n",
       "      <td>51</td>\n",
       "      <td>0</td>\n",
       "      <td>8</td>\n",
       "      <td>197</td>\n",
       "      <td>157</td>\n",
       "      <td>250</td>\n",
       "      <td>5</td>\n",
       "      <td>None</td>\n",
       "      <td>None</td>\n",
       "      <td>No</td>\n",
       "      <td>No</td>\n",
       "      <td>No</td>\n",
       "      <td>No</td>\n",
       "      <td>No</td>\n",
       "      <td>No</td>\n",
       "      <td>Steady</td>\n",
       "      <td>No</td>\n",
       "      <td>No</td>\n",
       "      <td>No</td>\n",
       "      <td>No</td>\n",
       "      <td>No</td>\n",
       "      <td>No</td>\n",
       "      <td>No</td>\n",
       "      <td>No</td>\n",
       "      <td>No</td>\n",
       "      <td>No</td>\n",
       "      <td>Steady</td>\n",
       "      <td>No</td>\n",
       "      <td>No</td>\n",
       "      <td>No</td>\n",
       "      <td>No</td>\n",
       "      <td>No</td>\n",
       "      <td>Ch</td>\n",
       "      <td>Yes</td>\n",
       "      <td>NO</td>\n",
       "      <td>0</td>\n",
       "    </tr>\n",
       "  </tbody>\n",
       "</table>\n",
       "</div>"
      ],
      "text/plain": [
       "              race  gender  age admission_type_id discharge_disposition_id  \\\n",
       "0        Caucasian  Female    5     Not Available            Not Available   \n",
       "1        Caucasian  Female   15         Emergency       Discharged to home   \n",
       "2  AfricanAmerican  Female  125         Emergency       Discharged to home   \n",
       "3        Caucasian    Male   35         Emergency       Discharged to home   \n",
       "4        Caucasian    Male   45         Emergency       Discharged to home   \n",
       "\n",
       "  admission_source_id  time_in_hospital  num_lab_procedures  num_procedures  \\\n",
       "0            Referral                 1                  41               0   \n",
       "1           Emergency                 3                  59               0   \n",
       "2           Emergency                 2                  11               5   \n",
       "3           Emergency                 2                  44               1   \n",
       "4           Emergency                 1                  51               0   \n",
       "\n",
       "   num_medications  diag_1  diag_2 diag_3  number_diagnoses max_glu_serum  \\\n",
       "0                1  250.83       ?      ?                 1          None   \n",
       "1               18     276  250.01    255                 9          None   \n",
       "2               13     648     250    V27                 6          None   \n",
       "3               16       8  250.43    403                 7          None   \n",
       "4                8     197     157    250                 5          None   \n",
       "\n",
       "  A1Cresult metformin repaglinide nateglinide chlorpropamide glimepiride  \\\n",
       "0      None        No          No          No             No          No   \n",
       "1      None        No          No          No             No          No   \n",
       "2      None        No          No          No             No          No   \n",
       "3      None        No          No          No             No          No   \n",
       "4      None        No          No          No             No          No   \n",
       "\n",
       "  acetohexamide glipizide glyburide tolbutamide pioglitazone rosiglitazone  \\\n",
       "0            No        No        No          No           No            No   \n",
       "1            No        No        No          No           No            No   \n",
       "2            No    Steady        No          No           No            No   \n",
       "3            No        No        No          No           No            No   \n",
       "4            No    Steady        No          No           No            No   \n",
       "\n",
       "  acarbose miglitol troglitazone tolazamide examide citoglipton insulin  \\\n",
       "0       No       No           No         No      No          No      No   \n",
       "1       No       No           No         No      No          No      Up   \n",
       "2       No       No           No         No      No          No      No   \n",
       "3       No       No           No         No      No          No      Up   \n",
       "4       No       No           No         No      No          No  Steady   \n",
       "\n",
       "  glyburide-metformin glipizide-metformin glimepiride-pioglitazone  \\\n",
       "0                  No                  No                       No   \n",
       "1                  No                  No                       No   \n",
       "2                  No                  No                       No   \n",
       "3                  No                  No                       No   \n",
       "4                  No                  No                       No   \n",
       "\n",
       "  metformin-rosiglitazone metformin-pioglitazone change diabetesMed  \\\n",
       "0                      No                     No     No          No   \n",
       "1                      No                     No     Ch         Yes   \n",
       "2                      No                     No     No         Yes   \n",
       "3                      No                     No     Ch         Yes   \n",
       "4                      No                     No     Ch         Yes   \n",
       "\n",
       "  readmitted  service_utilization  \n",
       "0         NO                    0  \n",
       "1        >30                    0  \n",
       "2         NO                    3  \n",
       "3         NO                    0  \n",
       "4         NO                    0  "
      ]
     },
     "execution_count": 70,
     "metadata": {},
     "output_type": "execute_result"
    }
   ],
   "source": [
    "df.head()"
   ]
  },
  {
   "cell_type": "code",
   "execution_count": 71,
   "id": "1991cb9a",
   "metadata": {},
   "outputs": [
    {
     "data": {
      "text/plain": [
       "race                        0\n",
       "gender                      0\n",
       "age                         0\n",
       "admission_type_id           0\n",
       "discharge_disposition_id    0\n",
       "admission_source_id         0\n",
       "time_in_hospital            0\n",
       "num_lab_procedures          0\n",
       "num_procedures              0\n",
       "num_medications             0\n",
       "diag_1                      0\n",
       "diag_2                      0\n",
       "diag_3                      0\n",
       "number_diagnoses            0\n",
       "max_glu_serum               0\n",
       "A1Cresult                   0\n",
       "metformin                   0\n",
       "repaglinide                 0\n",
       "nateglinide                 0\n",
       "chlorpropamide              0\n",
       "glimepiride                 0\n",
       "acetohexamide               0\n",
       "glipizide                   0\n",
       "glyburide                   0\n",
       "tolbutamide                 0\n",
       "pioglitazone                0\n",
       "rosiglitazone               0\n",
       "acarbose                    0\n",
       "miglitol                    0\n",
       "troglitazone                0\n",
       "tolazamide                  0\n",
       "examide                     0\n",
       "citoglipton                 0\n",
       "insulin                     0\n",
       "glyburide-metformin         0\n",
       "glipizide-metformin         0\n",
       "glimepiride-pioglitazone    0\n",
       "metformin-rosiglitazone     0\n",
       "metformin-pioglitazone      0\n",
       "change                      0\n",
       "diabetesMed                 0\n",
       "readmitted                  0\n",
       "service_utilization         0\n",
       "dtype: int64"
      ]
     },
     "execution_count": 71,
     "metadata": {},
     "output_type": "execute_result"
    }
   ],
   "source": [
    "df.isnull().sum()"
   ]
  },
  {
   "cell_type": "code",
   "execution_count": 72,
   "id": "8483119d",
   "metadata": {},
   "outputs": [
    {
     "data": {
      "text/plain": [
       "9     47804\n",
       "5     11294\n",
       "8     10359\n",
       "7     10212\n",
       "6      9984\n",
       "4      5499\n",
       "3      2822\n",
       "2      1021\n",
       "1       219\n",
       "16       42\n",
       "13       16\n",
       "10       16\n",
       "11       11\n",
       "15       10\n",
       "12        8\n",
       "14        6\n",
       "Name: number_diagnoses, dtype: int64"
      ]
     },
     "execution_count": 72,
     "metadata": {},
     "output_type": "execute_result"
    }
   ],
   "source": [
    "df['number_diagnoses'].value_counts()"
   ]
  },
  {
   "cell_type": "markdown",
   "id": "5383749d",
   "metadata": {},
   "source": [
    "1.max_glu_serum:"
   ]
  },
  {
   "cell_type": "code",
   "execution_count": 74,
   "id": "3d9c3ea7",
   "metadata": {},
   "outputs": [
    {
     "data": {
      "text/plain": [
       "None    94176\n",
       "Norm     2543\n",
       ">200     1416\n",
       ">300     1188\n",
       "Name: max_glu_serum, dtype: int64"
      ]
     },
     "execution_count": 74,
     "metadata": {},
     "output_type": "execute_result"
    }
   ],
   "source": [
    "df.max_glu_serum.value_counts()\n"
   ]
  },
  {
   "cell_type": "code",
   "execution_count": 75,
   "id": "c8c3175d",
   "metadata": {},
   "outputs": [],
   "source": [
    "df[\"max_glu_serum\"]=df[\"max_glu_serum\"].replace({\">200\":2,\">300\":2,\"Norm\":1,\"None\":0})\n"
   ]
  },
  {
   "cell_type": "code",
   "execution_count": 76,
   "id": "02fa755d",
   "metadata": {},
   "outputs": [
    {
     "data": {
      "text/plain": [
       "0    94176\n",
       "2     2604\n",
       "1     2543\n",
       "Name: max_glu_serum, dtype: int64"
      ]
     },
     "execution_count": 76,
     "metadata": {},
     "output_type": "execute_result"
    }
   ],
   "source": [
    "df.max_glu_serum.value_counts()\n"
   ]
  },
  {
   "cell_type": "markdown",
   "id": "440a6c47",
   "metadata": {},
   "source": [
    "Encoding- outcome variable whether the patient readmitts in 30 days or not"
   ]
  },
  {
   "cell_type": "code",
   "execution_count": 81,
   "id": "3be0a534",
   "metadata": {},
   "outputs": [
    {
     "data": {
      "text/plain": [
       "NO     52514\n",
       ">30    35496\n",
       "<30    11313\n",
       "Name: readmitted, dtype: int64"
      ]
     },
     "execution_count": 81,
     "metadata": {},
     "output_type": "execute_result"
    }
   ],
   "source": [
    "df['readmitted'].value_counts()\n"
   ]
  },
  {
   "cell_type": "code",
   "execution_count": 82,
   "id": "4dbcb521",
   "metadata": {},
   "outputs": [
    {
     "data": {
      "text/plain": [
       "array([0, 2, 1], dtype=int64)"
      ]
     },
     "execution_count": 82,
     "metadata": {},
     "output_type": "execute_result"
    }
   ],
   "source": [
    "df['A1Cresult'].unique()\n"
   ]
  },
  {
   "cell_type": "code",
   "execution_count": 83,
   "id": "27eb2f31",
   "metadata": {},
   "outputs": [],
   "source": [
    "df['A1Cresult']=df['A1Cresult'].replace({'None':0,'Norm':1,'>7':2,'>8':2})\n"
   ]
  },
  {
   "cell_type": "code",
   "execution_count": 84,
   "id": "5d58b8ad",
   "metadata": {},
   "outputs": [
    {
     "data": {
      "image/png": "[encoded data removed]",
      "text/plain": [
       "<Figure size 640x480 with 1 Axes>"
      ]
     },
     "metadata": {},
     "output_type": "display_data"
    }
   ],
   "source": [
    "\n",
    "import matplotlib.pyplot as plt\n",
    "import seaborn as sns\n",
    "sns.histplot(df.A1Cresult)\n",
    "plt.show()"
   ]
  },
  {
   "cell_type": "code",
   "execution_count": 85,
   "id": "0835a24e",
   "metadata": {},
   "outputs": [],
   "source": [
    "df['gender']=df['gender'].replace({'Female':0,'Male':1})"
   ]
  },
  {
   "cell_type": "code",
   "execution_count": 86,
   "id": "c0b4928e",
   "metadata": {},
   "outputs": [
    {
     "data": {
      "text/plain": [
       "No    53206\n",
       "Ch    46117\n",
       "Name: change, dtype: int64"
      ]
     },
     "execution_count": 86,
     "metadata": {},
     "output_type": "execute_result"
    }
   ],
   "source": [
    "df['change'].value_counts()"
   ]
  },
  {
   "cell_type": "code",
   "execution_count": 87,
   "id": "799d93f2",
   "metadata": {},
   "outputs": [],
   "source": [
    "df['change']=df['change'].replace({'No':0,'Ch':1})"
   ]
  },
  {
   "cell_type": "code",
   "execution_count": 88,
   "id": "60c6ff42",
   "metadata": {},
   "outputs": [
    {
     "data": {
      "text/plain": [
       "Yes    76703\n",
       "No     22620\n",
       "Name: diabetesMed, dtype: int64"
      ]
     },
     "execution_count": 88,
     "metadata": {},
     "output_type": "execute_result"
    }
   ],
   "source": [
    "df['diabetesMed'].value_counts()"
   ]
  },
  {
   "cell_type": "code",
   "execution_count": 89,
   "id": "cd8d7a26",
   "metadata": {},
   "outputs": [],
   "source": [
    "#encoding\n",
    "df['diabetesMed']=df['diabetesMed'].replace('Yes',1)\n",
    "df['diabetesMed']=df['diabetesMed'].replace('No',0)"
   ]
  },
  {
   "cell_type": "code",
   "execution_count": 90,
   "id": "eac5faac",
   "metadata": {},
   "outputs": [
    {
     "data": {
      "text/plain": [
       "1    76703\n",
       "0    22620\n",
       "Name: diabetesMed, dtype: int64"
      ]
     },
     "execution_count": 90,
     "metadata": {},
     "output_type": "execute_result"
    }
   ],
   "source": [
    "df['diabetesMed'].value_counts()"
   ]
  },
  {
   "cell_type": "code",
   "execution_count": 91,
   "id": "25b89e57",
   "metadata": {},
   "outputs": [
    {
     "data": {
      "text/plain": [
       "Index(['race', 'gender', 'age', 'admission_type_id',\n",
       "       'discharge_disposition_id', 'admission_source_id', 'time_in_hospital',\n",
       "       'num_lab_procedures', 'num_procedures', 'num_medications', 'diag_1',\n",
       "       'diag_2', 'diag_3', 'number_diagnoses', 'max_glu_serum', 'A1Cresult',\n",
       "       'metformin', 'repaglinide', 'nateglinide', 'chlorpropamide',\n",
       "       'glimepiride', 'acetohexamide', 'glipizide', 'glyburide', 'tolbutamide',\n",
       "       'pioglitazone', 'rosiglitazone', 'acarbose', 'miglitol', 'troglitazone',\n",
       "       'tolazamide', 'examide', 'citoglipton', 'insulin',\n",
       "       'glyburide-metformin', 'glipizide-metformin',\n",
       "       'glimepiride-pioglitazone', 'metformin-rosiglitazone',\n",
       "       'metformin-pioglitazone', 'change', 'diabetesMed', 'readmitted',\n",
       "       'service_utilization'],\n",
       "      dtype='object')"
      ]
     },
     "execution_count": 91,
     "metadata": {},
     "output_type": "execute_result"
    }
   ],
   "source": [
    "df.columns"
   ]
  },
  {
   "cell_type": "code",
   "execution_count": 92,
   "id": "c0b90de4",
   "metadata": {},
   "outputs": [
    {
     "data": {
      "text/plain": [
       "['metformin',\n",
       " 'repaglinide',\n",
       " 'nateglinide',\n",
       " 'chlorpropamide',\n",
       " 'glimepiride',\n",
       " 'acetohexamide',\n",
       " 'glipizide',\n",
       " 'glyburide',\n",
       " 'tolbutamide',\n",
       " 'pioglitazone',\n",
       " 'rosiglitazone',\n",
       " 'acarbose',\n",
       " 'miglitol',\n",
       " 'troglitazone',\n",
       " 'tolazamide',\n",
       " 'examide',\n",
       " 'citoglipton',\n",
       " 'insulin',\n",
       " 'glyburide-metformin',\n",
       " 'glipizide-metformin',\n",
       " 'glimepiride-pioglitazone',\n",
       " 'metformin-rosiglitazone',\n",
       " 'metformin-pioglitazone']"
      ]
     },
     "execution_count": 92,
     "metadata": {},
     "output_type": "execute_result"
    }
   ],
   "source": [
    "drug=list(df.iloc[:,16:39].columns)\n",
    "drug"
   ]
  },
  {
   "cell_type": "code",
   "execution_count": 93,
   "id": "4b07ff78",
   "metadata": {},
   "outputs": [
    {
     "name": "stdout",
     "output_type": "stream",
     "text": [
      "metformin ['No' 'Steady' 'Up' 'Down']\n",
      "repaglinide ['No' 'Up' 'Steady' 'Down']\n",
      "nateglinide ['No' 'Steady' 'Down' 'Up']\n",
      "chlorpropamide ['No' 'Steady' 'Down' 'Up']\n",
      "glimepiride ['No' 'Steady' 'Down' 'Up']\n",
      "acetohexamide ['No' 'Steady']\n",
      "glipizide ['No' 'Steady' 'Up' 'Down']\n",
      "glyburide ['No' 'Steady' 'Up' 'Down']\n",
      "tolbutamide ['No' 'Steady']\n",
      "pioglitazone ['No' 'Steady' 'Up' 'Down']\n",
      "rosiglitazone ['No' 'Steady' 'Up' 'Down']\n",
      "acarbose ['No' 'Steady' 'Up' 'Down']\n",
      "miglitol ['No' 'Steady' 'Down' 'Up']\n",
      "troglitazone ['No' 'Steady']\n",
      "tolazamide ['No' 'Steady' 'Up']\n",
      "examide ['No']\n",
      "citoglipton ['No']\n",
      "insulin ['No' 'Up' 'Steady' 'Down']\n",
      "glyburide-metformin ['No' 'Steady' 'Down' 'Up']\n",
      "glipizide-metformin ['No' 'Steady']\n",
      "glimepiride-pioglitazone ['No' 'Steady']\n",
      "metformin-rosiglitazone ['No' 'Steady']\n",
      "metformin-pioglitazone ['No' 'Steady']\n"
     ]
    }
   ],
   "source": [
    "for i in drug:\n",
    "    print(i, df[i].unique())"
   ]
  },
  {
   "cell_type": "code",
   "execution_count": 96,
   "id": "f097e17d",
   "metadata": {},
   "outputs": [
    {
     "data": {
      "text/plain": [
       "No    99323\n",
       "Name: citoglipton, dtype: int64"
      ]
     },
     "execution_count": 96,
     "metadata": {},
     "output_type": "execute_result"
    }
   ],
   "source": [
    "df['citoglipton'].value_counts()"
   ]
  },
  {
   "cell_type": "code",
   "execution_count": 97,
   "id": "3664bd2c",
   "metadata": {},
   "outputs": [
    {
     "data": {
      "text/plain": [
       "No    99323\n",
       "Name: examide, dtype: int64"
      ]
     },
     "execution_count": 97,
     "metadata": {},
     "output_type": "execute_result"
    }
   ],
   "source": [
    "df['examide'].value_counts()"
   ]
  },
  {
   "cell_type": "code",
   "execution_count": 98,
   "id": "7eed0764",
   "metadata": {},
   "outputs": [],
   "source": [
    "df=df.drop(['citoglipton','examide'],axis=1)"
   ]
  },
  {
   "cell_type": "code",
   "execution_count": 99,
   "id": "966b91b5",
   "metadata": {},
   "outputs": [],
   "source": [
    "l1=['metformin','glipizide','insulin','glyburide']"
   ]
  },
  {
   "cell_type": "code",
   "execution_count": 100,
   "id": "16e348ec",
   "metadata": {},
   "outputs": [
    {
     "name": "stdout",
     "output_type": "stream",
     "text": [
      "metformin\n",
      "No        80.021747\n",
      "Steady    18.330095\n",
      "Up         1.070246\n",
      "Down       0.577912\n",
      "Name: metformin, dtype: float64\n",
      "glipizide\n",
      "No        87.385601\n",
      "Steady    11.293457\n",
      "Up         0.769208\n",
      "Down       0.551735\n",
      "Name: glipizide, dtype: float64\n",
      "insulin\n",
      "No        46.685058\n",
      "Steady    30.265900\n",
      "Down      11.989167\n",
      "Up        11.059875\n",
      "Name: insulin, dtype: float64\n",
      "glyburide\n",
      "No        89.407287\n",
      "Steady     9.222436\n",
      "Up         0.806460\n",
      "Down       0.563817\n",
      "Name: glyburide, dtype: float64\n"
     ]
    }
   ],
   "source": [
    "for i in l1:\n",
    "    print(i)\n",
    "    print((df[i].value_counts(normalize=True)*100))"
   ]
  },
  {
   "cell_type": "code",
   "execution_count": 101,
   "id": "7c175707",
   "metadata": {},
   "outputs": [],
   "source": [
    "for i in l1:\n",
    "    df[i]=df[i].apply(lambda x:0 if (x=='No' or x=='Steady')else 1)"
   ]
  },
  {
   "cell_type": "code",
   "execution_count": 102,
   "id": "3b7b5271",
   "metadata": {},
   "outputs": [
    {
     "data": {
      "text/plain": [
       "0    76430\n",
       "1    22893\n",
       "Name: insulin, dtype: int64"
      ]
     },
     "execution_count": 102,
     "metadata": {},
     "output_type": "execute_result"
    }
   ],
   "source": [
    "df.insulin.value_counts()"
   ]
  },
  {
   "cell_type": "code",
   "execution_count": 103,
   "id": "857a32e8",
   "metadata": {},
   "outputs": [],
   "source": [
    "#drop rest of the medication columns"
   ]
  },
  {
   "cell_type": "code",
   "execution_count": 104,
   "id": "3b83aeb5",
   "metadata": {},
   "outputs": [],
   "source": [
    "df=df.drop(['repaglinide',\n",
    "            'nateglinide',\n",
    "            'chlorpropamide',\n",
    "            'glimepiride',\n",
    "            'acetohexamide',\n",
    "            'tolbutamide',\n",
    "            'pioglitazone',\n",
    "            'rosiglitazone',\n",
    "            'acarbose',\n",
    "            'miglitol',\n",
    "            'troglitazone',\n",
    "            'tolazamide',\n",
    "            'glyburide-metformin',\n",
    "            'glipizide-metformin',\n",
    "            'glimepiride-pioglitazone',\n",
    "            'metformin-rosiglitazone',\n",
    "            'metformin-pioglitazone'],axis=1)"
   ]
  },
  {
   "cell_type": "code",
   "execution_count": 105,
   "id": "d5978996",
   "metadata": {},
   "outputs": [
    {
     "data": {
      "text/html": [
       "<div>\n",
       "<style scoped>\n",
       "    .dataframe tbody tr th:only-of-type {\n",
       "        vertical-align: middle;\n",
       "    }\n",
       "\n",
       "    .dataframe tbody tr th {\n",
       "        vertical-align: top;\n",
       "    }\n",
       "\n",
       "    .dataframe thead th {\n",
       "        text-align: right;\n",
       "    }\n",
       "</style>\n",
       "<table border=\"1\" class=\"dataframe\">\n",
       "  <thead>\n",
       "    <tr style=\"text-align: right;\">\n",
       "      <th></th>\n",
       "      <th>race</th>\n",
       "      <th>gender</th>\n",
       "      <th>age</th>\n",
       "      <th>admission_type_id</th>\n",
       "      <th>discharge_disposition_id</th>\n",
       "      <th>admission_source_id</th>\n",
       "      <th>time_in_hospital</th>\n",
       "      <th>num_lab_procedures</th>\n",
       "      <th>num_procedures</th>\n",
       "      <th>num_medications</th>\n",
       "      <th>diag_1</th>\n",
       "      <th>diag_2</th>\n",
       "      <th>diag_3</th>\n",
       "      <th>number_diagnoses</th>\n",
       "      <th>max_glu_serum</th>\n",
       "      <th>A1Cresult</th>\n",
       "      <th>metformin</th>\n",
       "      <th>glipizide</th>\n",
       "      <th>glyburide</th>\n",
       "      <th>insulin</th>\n",
       "      <th>change</th>\n",
       "      <th>diabetesMed</th>\n",
       "      <th>readmitted</th>\n",
       "      <th>service_utilization</th>\n",
       "    </tr>\n",
       "  </thead>\n",
       "  <tbody>\n",
       "    <tr>\n",
       "      <th>0</th>\n",
       "      <td>Caucasian</td>\n",
       "      <td>0</td>\n",
       "      <td>5</td>\n",
       "      <td>Not Available</td>\n",
       "      <td>Not Available</td>\n",
       "      <td>Referral</td>\n",
       "      <td>1</td>\n",
       "      <td>41</td>\n",
       "      <td>0</td>\n",
       "      <td>1</td>\n",
       "      <td>250.83</td>\n",
       "      <td>?</td>\n",
       "      <td>?</td>\n",
       "      <td>1</td>\n",
       "      <td>0</td>\n",
       "      <td>0</td>\n",
       "      <td>0</td>\n",
       "      <td>0</td>\n",
       "      <td>0</td>\n",
       "      <td>0</td>\n",
       "      <td>0</td>\n",
       "      <td>0</td>\n",
       "      <td>NO</td>\n",
       "      <td>0</td>\n",
       "    </tr>\n",
       "    <tr>\n",
       "      <th>1</th>\n",
       "      <td>Caucasian</td>\n",
       "      <td>0</td>\n",
       "      <td>15</td>\n",
       "      <td>Emergency</td>\n",
       "      <td>Discharged to home</td>\n",
       "      <td>Emergency</td>\n",
       "      <td>3</td>\n",
       "      <td>59</td>\n",
       "      <td>0</td>\n",
       "      <td>18</td>\n",
       "      <td>276</td>\n",
       "      <td>250.01</td>\n",
       "      <td>255</td>\n",
       "      <td>9</td>\n",
       "      <td>0</td>\n",
       "      <td>0</td>\n",
       "      <td>0</td>\n",
       "      <td>0</td>\n",
       "      <td>0</td>\n",
       "      <td>1</td>\n",
       "      <td>1</td>\n",
       "      <td>1</td>\n",
       "      <td>&gt;30</td>\n",
       "      <td>0</td>\n",
       "    </tr>\n",
       "    <tr>\n",
       "      <th>2</th>\n",
       "      <td>AfricanAmerican</td>\n",
       "      <td>0</td>\n",
       "      <td>125</td>\n",
       "      <td>Emergency</td>\n",
       "      <td>Discharged to home</td>\n",
       "      <td>Emergency</td>\n",
       "      <td>2</td>\n",
       "      <td>11</td>\n",
       "      <td>5</td>\n",
       "      <td>13</td>\n",
       "      <td>648</td>\n",
       "      <td>250</td>\n",
       "      <td>V27</td>\n",
       "      <td>6</td>\n",
       "      <td>0</td>\n",
       "      <td>0</td>\n",
       "      <td>0</td>\n",
       "      <td>0</td>\n",
       "      <td>0</td>\n",
       "      <td>0</td>\n",
       "      <td>0</td>\n",
       "      <td>1</td>\n",
       "      <td>NO</td>\n",
       "      <td>3</td>\n",
       "    </tr>\n",
       "    <tr>\n",
       "      <th>3</th>\n",
       "      <td>Caucasian</td>\n",
       "      <td>1</td>\n",
       "      <td>35</td>\n",
       "      <td>Emergency</td>\n",
       "      <td>Discharged to home</td>\n",
       "      <td>Emergency</td>\n",
       "      <td>2</td>\n",
       "      <td>44</td>\n",
       "      <td>1</td>\n",
       "      <td>16</td>\n",
       "      <td>8</td>\n",
       "      <td>250.43</td>\n",
       "      <td>403</td>\n",
       "      <td>7</td>\n",
       "      <td>0</td>\n",
       "      <td>0</td>\n",
       "      <td>0</td>\n",
       "      <td>0</td>\n",
       "      <td>0</td>\n",
       "      <td>1</td>\n",
       "      <td>1</td>\n",
       "      <td>1</td>\n",
       "      <td>NO</td>\n",
       "      <td>0</td>\n",
       "    </tr>\n",
       "    <tr>\n",
       "      <th>4</th>\n",
       "      <td>Caucasian</td>\n",
       "      <td>1</td>\n",
       "      <td>45</td>\n",
       "      <td>Emergency</td>\n",
       "      <td>Discharged to home</td>\n",
       "      <td>Emergency</td>\n",
       "      <td>1</td>\n",
       "      <td>51</td>\n",
       "      <td>0</td>\n",
       "      <td>8</td>\n",
       "      <td>197</td>\n",
       "      <td>157</td>\n",
       "      <td>250</td>\n",
       "      <td>5</td>\n",
       "      <td>0</td>\n",
       "      <td>0</td>\n",
       "      <td>0</td>\n",
       "      <td>0</td>\n",
       "      <td>0</td>\n",
       "      <td>0</td>\n",
       "      <td>1</td>\n",
       "      <td>1</td>\n",
       "      <td>NO</td>\n",
       "      <td>0</td>\n",
       "    </tr>\n",
       "  </tbody>\n",
       "</table>\n",
       "</div>"
      ],
      "text/plain": [
       "              race  gender  age admission_type_id discharge_disposition_id  \\\n",
       "0        Caucasian       0    5     Not Available            Not Available   \n",
       "1        Caucasian       0   15         Emergency       Discharged to home   \n",
       "2  AfricanAmerican       0  125         Emergency       Discharged to home   \n",
       "3        Caucasian       1   35         Emergency       Discharged to home   \n",
       "4        Caucasian       1   45         Emergency       Discharged to home   \n",
       "\n",
       "  admission_source_id  time_in_hospital  num_lab_procedures  num_procedures  \\\n",
       "0            Referral                 1                  41               0   \n",
       "1           Emergency                 3                  59               0   \n",
       "2           Emergency                 2                  11               5   \n",
       "3           Emergency                 2                  44               1   \n",
       "4           Emergency                 1                  51               0   \n",
       "\n",
       "   num_medications  diag_1  diag_2 diag_3  number_diagnoses  max_glu_serum  \\\n",
       "0                1  250.83       ?      ?                 1              0   \n",
       "1               18     276  250.01    255                 9              0   \n",
       "2               13     648     250    V27                 6              0   \n",
       "3               16       8  250.43    403                 7              0   \n",
       "4                8     197     157    250                 5              0   \n",
       "\n",
       "   A1Cresult  metformin  glipizide  glyburide  insulin  change  diabetesMed  \\\n",
       "0          0          0          0          0        0       0            0   \n",
       "1          0          0          0          0        1       1            1   \n",
       "2          0          0          0          0        0       0            1   \n",
       "3          0          0          0          0        1       1            1   \n",
       "4          0          0          0          0        0       1            1   \n",
       "\n",
       "  readmitted  service_utilization  \n",
       "0         NO                    0  \n",
       "1        >30                    0  \n",
       "2         NO                    3  \n",
       "3         NO                    0  \n",
       "4         NO                    0  "
      ]
     },
     "execution_count": 105,
     "metadata": {},
     "output_type": "execute_result"
    }
   ],
   "source": [
    "df.head()"
   ]
  },
  {
   "cell_type": "code",
   "execution_count": 106,
   "id": "abe94743",
   "metadata": {},
   "outputs": [
    {
     "data": {
      "text/plain": [
       "array(['Caucasian', 'AfricanAmerican', 'Other', 'Asian', 'Hispanic'],\n",
       "      dtype=object)"
      ]
     },
     "execution_count": 106,
     "metadata": {},
     "output_type": "execute_result"
    }
   ],
   "source": [
    "df.race.unique()"
   ]
  },
  {
   "cell_type": "code",
   "execution_count": 107,
   "id": "224ad930",
   "metadata": {},
   "outputs": [
    {
     "data": {
      "text/plain": [
       "<Axes: xlabel='count', ylabel='race'>"
      ]
     },
     "execution_count": 107,
     "metadata": {},
     "output_type": "execute_result"
    },
    {
     "data": {
      "image/png": "[encoded data removed]",
      "text/plain": [
       "<Figure size 800x800 with 1 Axes>"
      ]
     },
     "metadata": {},
     "output_type": "display_data"
    }
   ],
   "source": [
    "fig=plt.figure(figsize=(8,8))\n",
    "sns.countplot(y=df['race'],hue=df['readmitted'])"
   ]
  },
  {
   "cell_type": "code",
   "execution_count": 108,
   "id": "896d1c1e",
   "metadata": {},
   "outputs": [
    {
     "data": {
      "text/html": [
       "<div>\n",
       "<style scoped>\n",
       "    .dataframe tbody tr th:only-of-type {\n",
       "        vertical-align: middle;\n",
       "    }\n",
       "\n",
       "    .dataframe tbody tr th {\n",
       "        vertical-align: top;\n",
       "    }\n",
       "\n",
       "    .dataframe thead th {\n",
       "        text-align: right;\n",
       "    }\n",
       "</style>\n",
       "<table border=\"1\" class=\"dataframe\">\n",
       "  <thead>\n",
       "    <tr style=\"text-align: right;\">\n",
       "      <th></th>\n",
       "      <th>Asian</th>\n",
       "      <th>Caucasian</th>\n",
       "      <th>Hispanic</th>\n",
       "      <th>Other</th>\n",
       "    </tr>\n",
       "  </thead>\n",
       "  <tbody>\n",
       "    <tr>\n",
       "      <th>0</th>\n",
       "      <td>0</td>\n",
       "      <td>1</td>\n",
       "      <td>0</td>\n",
       "      <td>0</td>\n",
       "    </tr>\n",
       "    <tr>\n",
       "      <th>1</th>\n",
       "      <td>0</td>\n",
       "      <td>1</td>\n",
       "      <td>0</td>\n",
       "      <td>0</td>\n",
       "    </tr>\n",
       "    <tr>\n",
       "      <th>2</th>\n",
       "      <td>0</td>\n",
       "      <td>0</td>\n",
       "      <td>0</td>\n",
       "      <td>0</td>\n",
       "    </tr>\n",
       "    <tr>\n",
       "      <th>3</th>\n",
       "      <td>0</td>\n",
       "      <td>1</td>\n",
       "      <td>0</td>\n",
       "      <td>0</td>\n",
       "    </tr>\n",
       "    <tr>\n",
       "      <th>4</th>\n",
       "      <td>0</td>\n",
       "      <td>1</td>\n",
       "      <td>0</td>\n",
       "      <td>0</td>\n",
       "    </tr>\n",
       "  </tbody>\n",
       "</table>\n",
       "</div>"
      ],
      "text/plain": [
       "   Asian  Caucasian  Hispanic  Other\n",
       "0      0          1         0      0\n",
       "1      0          1         0      0\n",
       "2      0          0         0      0\n",
       "3      0          1         0      0\n",
       "4      0          1         0      0"
      ]
     },
     "execution_count": 108,
     "metadata": {},
     "output_type": "execute_result"
    }
   ],
   "source": [
    "race_dummies=pd.get_dummies(df['race'],drop_first=True)\n",
    "race_dummies.head()"
   ]
  },
  {
   "cell_type": "code",
   "execution_count": 109,
   "id": "24f1989f",
   "metadata": {},
   "outputs": [
    {
     "data": {
      "text/html": [
       "<div>\n",
       "<style scoped>\n",
       "    .dataframe tbody tr th:only-of-type {\n",
       "        vertical-align: middle;\n",
       "    }\n",
       "\n",
       "    .dataframe tbody tr th {\n",
       "        vertical-align: top;\n",
       "    }\n",
       "\n",
       "    .dataframe thead th {\n",
       "        text-align: right;\n",
       "    }\n",
       "</style>\n",
       "<table border=\"1\" class=\"dataframe\">\n",
       "  <thead>\n",
       "    <tr style=\"text-align: right;\">\n",
       "      <th></th>\n",
       "      <th>gender</th>\n",
       "      <th>age</th>\n",
       "      <th>admission_type_id</th>\n",
       "      <th>discharge_disposition_id</th>\n",
       "      <th>admission_source_id</th>\n",
       "      <th>time_in_hospital</th>\n",
       "      <th>num_lab_procedures</th>\n",
       "      <th>num_procedures</th>\n",
       "      <th>num_medications</th>\n",
       "      <th>diag_1</th>\n",
       "      <th>diag_2</th>\n",
       "      <th>diag_3</th>\n",
       "      <th>number_diagnoses</th>\n",
       "      <th>max_glu_serum</th>\n",
       "      <th>A1Cresult</th>\n",
       "      <th>metformin</th>\n",
       "      <th>glipizide</th>\n",
       "      <th>glyburide</th>\n",
       "      <th>insulin</th>\n",
       "      <th>change</th>\n",
       "      <th>diabetesMed</th>\n",
       "      <th>readmitted</th>\n",
       "      <th>service_utilization</th>\n",
       "      <th>Asian</th>\n",
       "      <th>Caucasian</th>\n",
       "      <th>Hispanic</th>\n",
       "      <th>Other</th>\n",
       "    </tr>\n",
       "  </thead>\n",
       "  <tbody>\n",
       "    <tr>\n",
       "      <th>0</th>\n",
       "      <td>0</td>\n",
       "      <td>5</td>\n",
       "      <td>Not Available</td>\n",
       "      <td>Not Available</td>\n",
       "      <td>Referral</td>\n",
       "      <td>1</td>\n",
       "      <td>41</td>\n",
       "      <td>0</td>\n",
       "      <td>1</td>\n",
       "      <td>250.83</td>\n",
       "      <td>?</td>\n",
       "      <td>?</td>\n",
       "      <td>1</td>\n",
       "      <td>0</td>\n",
       "      <td>0</td>\n",
       "      <td>0</td>\n",
       "      <td>0</td>\n",
       "      <td>0</td>\n",
       "      <td>0</td>\n",
       "      <td>0</td>\n",
       "      <td>0</td>\n",
       "      <td>NO</td>\n",
       "      <td>0</td>\n",
       "      <td>0</td>\n",
       "      <td>1</td>\n",
       "      <td>0</td>\n",
       "      <td>0</td>\n",
       "    </tr>\n",
       "    <tr>\n",
       "      <th>1</th>\n",
       "      <td>0</td>\n",
       "      <td>15</td>\n",
       "      <td>Emergency</td>\n",
       "      <td>Discharged to home</td>\n",
       "      <td>Emergency</td>\n",
       "      <td>3</td>\n",
       "      <td>59</td>\n",
       "      <td>0</td>\n",
       "      <td>18</td>\n",
       "      <td>276</td>\n",
       "      <td>250.01</td>\n",
       "      <td>255</td>\n",
       "      <td>9</td>\n",
       "      <td>0</td>\n",
       "      <td>0</td>\n",
       "      <td>0</td>\n",
       "      <td>0</td>\n",
       "      <td>0</td>\n",
       "      <td>1</td>\n",
       "      <td>1</td>\n",
       "      <td>1</td>\n",
       "      <td>&gt;30</td>\n",
       "      <td>0</td>\n",
       "      <td>0</td>\n",
       "      <td>1</td>\n",
       "      <td>0</td>\n",
       "      <td>0</td>\n",
       "    </tr>\n",
       "    <tr>\n",
       "      <th>2</th>\n",
       "      <td>0</td>\n",
       "      <td>125</td>\n",
       "      <td>Emergency</td>\n",
       "      <td>Discharged to home</td>\n",
       "      <td>Emergency</td>\n",
       "      <td>2</td>\n",
       "      <td>11</td>\n",
       "      <td>5</td>\n",
       "      <td>13</td>\n",
       "      <td>648</td>\n",
       "      <td>250</td>\n",
       "      <td>V27</td>\n",
       "      <td>6</td>\n",
       "      <td>0</td>\n",
       "      <td>0</td>\n",
       "      <td>0</td>\n",
       "      <td>0</td>\n",
       "      <td>0</td>\n",
       "      <td>0</td>\n",
       "      <td>0</td>\n",
       "      <td>1</td>\n",
       "      <td>NO</td>\n",
       "      <td>3</td>\n",
       "      <td>0</td>\n",
       "      <td>0</td>\n",
       "      <td>0</td>\n",
       "      <td>0</td>\n",
       "    </tr>\n",
       "    <tr>\n",
       "      <th>3</th>\n",
       "      <td>1</td>\n",
       "      <td>35</td>\n",
       "      <td>Emergency</td>\n",
       "      <td>Discharged to home</td>\n",
       "      <td>Emergency</td>\n",
       "      <td>2</td>\n",
       "      <td>44</td>\n",
       "      <td>1</td>\n",
       "      <td>16</td>\n",
       "      <td>8</td>\n",
       "      <td>250.43</td>\n",
       "      <td>403</td>\n",
       "      <td>7</td>\n",
       "      <td>0</td>\n",
       "      <td>0</td>\n",
       "      <td>0</td>\n",
       "      <td>0</td>\n",
       "      <td>0</td>\n",
       "      <td>1</td>\n",
       "      <td>1</td>\n",
       "      <td>1</td>\n",
       "      <td>NO</td>\n",
       "      <td>0</td>\n",
       "      <td>0</td>\n",
       "      <td>1</td>\n",
       "      <td>0</td>\n",
       "      <td>0</td>\n",
       "    </tr>\n",
       "    <tr>\n",
       "      <th>4</th>\n",
       "      <td>1</td>\n",
       "      <td>45</td>\n",
       "      <td>Emergency</td>\n",
       "      <td>Discharged to home</td>\n",
       "      <td>Emergency</td>\n",
       "      <td>1</td>\n",
       "      <td>51</td>\n",
       "      <td>0</td>\n",
       "      <td>8</td>\n",
       "      <td>197</td>\n",
       "      <td>157</td>\n",
       "      <td>250</td>\n",
       "      <td>5</td>\n",
       "      <td>0</td>\n",
       "      <td>0</td>\n",
       "      <td>0</td>\n",
       "      <td>0</td>\n",
       "      <td>0</td>\n",
       "      <td>0</td>\n",
       "      <td>1</td>\n",
       "      <td>1</td>\n",
       "      <td>NO</td>\n",
       "      <td>0</td>\n",
       "      <td>0</td>\n",
       "      <td>1</td>\n",
       "      <td>0</td>\n",
       "      <td>0</td>\n",
       "    </tr>\n",
       "  </tbody>\n",
       "</table>\n",
       "</div>"
      ],
      "text/plain": [
       "   gender  age admission_type_id discharge_disposition_id admission_source_id  \\\n",
       "0       0    5     Not Available            Not Available            Referral   \n",
       "1       0   15         Emergency       Discharged to home           Emergency   \n",
       "2       0  125         Emergency       Discharged to home           Emergency   \n",
       "3       1   35         Emergency       Discharged to home           Emergency   \n",
       "4       1   45         Emergency       Discharged to home           Emergency   \n",
       "\n",
       "   time_in_hospital  num_lab_procedures  num_procedures  num_medications  \\\n",
       "0                 1                  41               0                1   \n",
       "1                 3                  59               0               18   \n",
       "2                 2                  11               5               13   \n",
       "3                 2                  44               1               16   \n",
       "4                 1                  51               0                8   \n",
       "\n",
       "   diag_1  diag_2 diag_3  number_diagnoses  max_glu_serum  A1Cresult  \\\n",
       "0  250.83       ?      ?                 1              0          0   \n",
       "1     276  250.01    255                 9              0          0   \n",
       "2     648     250    V27                 6              0          0   \n",
       "3       8  250.43    403                 7              0          0   \n",
       "4     197     157    250                 5              0          0   \n",
       "\n",
       "   metformin  glipizide  glyburide  insulin  change  diabetesMed readmitted  \\\n",
       "0          0          0          0        0       0            0         NO   \n",
       "1          0          0          0        1       1            1        >30   \n",
       "2          0          0          0        0       0            1         NO   \n",
       "3          0          0          0        1       1            1         NO   \n",
       "4          0          0          0        0       1            1         NO   \n",
       "\n",
       "   service_utilization  Asian  Caucasian  Hispanic  Other  \n",
       "0                    0      0          1         0      0  \n",
       "1                    0      0          1         0      0  \n",
       "2                    3      0          0         0      0  \n",
       "3                    0      0          1         0      0  \n",
       "4                    0      0          1         0      0  "
      ]
     },
     "execution_count": 109,
     "metadata": {},
     "output_type": "execute_result"
    }
   ],
   "source": [
    "df=pd.concat([df,race_dummies],axis=1)\n",
    "df.drop(['race'],inplace=True,axis=1)\n",
    "df.head()"
   ]
  },
  {
   "cell_type": "code",
   "execution_count": 110,
   "id": "4b40e9cf",
   "metadata": {},
   "outputs": [
    {
     "data": {
      "text/plain": [
       "Text(0.5, 1.0, 'Gender of patient vs Readmission')"
      ]
     },
     "execution_count": 110,
     "metadata": {},
     "output_type": "execute_result"
    },
    {
     "data": {
      "image/png": "[encoded data removed]",
      "text/plain": [
       "<Figure size 800x800 with 1 Axes>"
      ]
     },
     "metadata": {},
     "output_type": "display_data"
    }
   ],
   "source": [
    "fig=plt.figure(figsize=(8,8))\n",
    "sns.countplot(x=df['gender'],hue=df['readmitted']).set_title(\"Gender of patient vs Readmission\")"
   ]
  },
  {
   "cell_type": "code",
   "execution_count": null,
   "id": "0ef02b70",
   "metadata": {},
   "outputs": [],
   "source": []
  }
 ],
 "metadata": {
  "kernelspec": {
   "display_name": "Python 3 (ipykernel)",
   "language": "python",
   "name": "python3"
  },
  "language_info": {
   "codemirror_mode": {
    "name": "ipython",
    "version": 3
   },
   "file_extension": ".py",
   "mimetype": "text/x-python",
   "name": "python",
   "nbconvert_exporter": "python",
   "pygments_lexer": "ipython3",
   "version": "3.10.9"
  }
 },
 "nbformat": 4,
 "nbformat_minor": 5
}
